{
  "nbformat": 4,
  "nbformat_minor": 0,
  "metadata": {
    "colab": {
      "name": "training_od_colab",
      "provenance": [],
      "collapsed_sections": [],
      "machine_shape": "hm",
      "private_outputs": true
    },
    "kernelspec": {
      "name": "python3",
      "display_name": "Python 3"
    },
    "language_info": {
      "name": "python"
    },
    "accelerator": "GPU"
  },
  "cells": [
    {
      "cell_type": "code",
      "source": [
        "# from google.colab import drive\n",
        "# drive.mount('/content/drive')"
      ],
      "metadata": {
        "id": "jwufQyvf7Wzb"
      },
      "execution_count": null,
      "outputs": []
    },
    {
      "cell_type": "code",
      "source": [
        "!git clone https://github.com/satojkovic/DeepLogo2.git"
      ],
      "metadata": {
        "id": "-ehAPgQ2o6-j"
      },
      "execution_count": null,
      "outputs": []
    },
    {
      "cell_type": "code",
      "source": [
        "import os\n",
        "os.chdir('DeepLogo2')"
      ],
      "metadata": {
        "id": "H8Jvk13spGHP"
      },
      "execution_count": null,
      "outputs": []
    },
    {
      "cell_type": "code",
      "execution_count": null,
      "metadata": {
        "id": "oIBaToFkmvR6"
      },
      "outputs": [],
      "source": [
        "import os\n",
        "import pathlib\n",
        "\n",
        "# Clone the tensorflow models repository if it doesn't already exist\n",
        "if \"models\" in pathlib.Path.cwd().parts:\n",
        "  while \"models\" in pathlib.Path.cwd().parts:\n",
        "    os.chdir('..')\n",
        "elif not pathlib.Path('models').exists():\n",
        "  !git clone --depth 1 https://github.com/tensorflow/models"
      ]
    },
    {
      "cell_type": "code",
      "source": [
        "# Install the Object Detection API\n",
        "%%bash\n",
        "cd models/research/\n",
        "protoc object_detection/protos/*.proto --python_out=.\n",
        "cp object_detection/packages/tf2/setup.py .\n",
        "python -m pip install ."
      ],
      "metadata": {
        "id": "WdOSSSGxqHva"
      },
      "execution_count": null,
      "outputs": []
    },
    {
      "cell_type": "code",
      "source": [
        "import matplotlib\n",
        "import matplotlib.pyplot as plt\n",
        "\n",
        "import os\n",
        "import random\n",
        "import io\n",
        "import imageio\n",
        "import glob\n",
        "import scipy.misc\n",
        "import numpy as np\n",
        "from six import BytesIO\n",
        "from PIL import Image, ImageDraw, ImageFont\n",
        "from IPython.display import display, Javascript\n",
        "from IPython.display import Image as IPyImage\n",
        "\n",
        "import tensorflow as tf\n",
        "\n",
        "from object_detection.utils import label_map_util\n",
        "from object_detection.utils import config_util\n",
        "from object_detection.utils import visualization_utils as viz_utils\n",
        "from object_detection.utils import colab_utils\n",
        "from object_detection.builders import model_builder\n",
        "\n",
        "%matplotlib inline"
      ],
      "metadata": {
        "id": "4UES9aR1qNbf"
      },
      "execution_count": null,
      "outputs": []
    },
    {
      "cell_type": "code",
      "source": [
        "from tqdm import tqdm"
      ],
      "metadata": {
        "id": "5cCrYqA0D-Vs"
      },
      "execution_count": null,
      "outputs": []
    },
    {
      "cell_type": "code",
      "source": [
        "import gc\n",
        "gc.collect()"
      ],
      "metadata": {
        "id": "y_fDt3U71pbF"
      },
      "execution_count": null,
      "outputs": []
    },
    {
      "cell_type": "code",
      "source": [
        "gpus = tf.config.list_physical_devices('GPU')\n",
        "if gpus:\n",
        "  try:\n",
        "    # Currently, memory growth needs to be the same across GPUs\n",
        "    for gpu in gpus:\n",
        "      tf.config.experimental.set_memory_growth(gpu, True)\n",
        "    logical_gpus = tf.config.list_logical_devices('GPU')\n",
        "    print(len(gpus), \"Physical GPUs,\", len(logical_gpus), \"Logical GPUs\")\n",
        "  except RuntimeError as e:\n",
        "    # Memory growth must be set before GPUs have been initialized\n",
        "    print(e)"
      ],
      "metadata": {
        "id": "1Goeb7ZOQMgE"
      },
      "execution_count": null,
      "outputs": []
    },
    {
      "cell_type": "code",
      "source": [
        "# gpus = tf.config.list_physical_devices('GPU')\n",
        "# if gpus:\n",
        "#   # Restrict TensorFlow to only allocate 8GB of memory on the first GPU\n",
        "#   try:\n",
        "#     tf.config.set_logical_device_configuration(\n",
        "#         gpus[0],\n",
        "#         [tf.config.LogicalDeviceConfiguration(memory_limit=8192)])\n",
        "#     logical_gpus = tf.config.list_logical_devices('GPU')\n",
        "#     print(len(gpus), \"Physical GPUs,\", len(logical_gpus), \"Logical GPUs\")\n",
        "#   except RuntimeError as e:\n",
        "#     # Virtual devices must be set before GPUs have been initialized\n",
        "#     print(e)"
      ],
      "metadata": {
        "id": "09U6gkpZbHl6"
      },
      "execution_count": null,
      "outputs": []
    },
    {
      "cell_type": "code",
      "source": [
        "# def load_image_into_numpy_array(path):\n",
        "#   img_data = tf.io.gfile.GFile(path, 'rb').read()\n",
        "#   image = Image.open(BytesIO(img_data))\n",
        "#   im_width, im_height = image.size\n",
        "#   return np.array(image.getdata()).reshape((im_height, im_width, 3)).astype(np.uint8)\n",
        "def load_image_into_numpy_array(path):\n",
        "  \"\"\"Load an image from file into a numpy array.\n",
        "\n",
        "  Puts image into numpy array to feed into tensorflow graph.\n",
        "  Note that by convention we put it into a numpy array with shape\n",
        "  (height, width, channels), where channels=3 for RGB.\n",
        "\n",
        "  Args:\n",
        "    path: a file path.\n",
        "\n",
        "  Returns:\n",
        "    uint8 numpy array with shape (img_height, img_width, 3)\n",
        "  \"\"\"\n",
        "  img_data = tf.io.gfile.GFile(path, 'rb').read()\n",
        "  image = Image.open(BytesIO(img_data))\n",
        "  (im_width, im_height) = image.size\n",
        "  return np.array(image.getdata()).reshape(\n",
        "      (im_height, im_width, 3)).astype(np.uint8)\n",
        "\n",
        "def plot_detections(image_np,\n",
        "                    boxes,\n",
        "                    classes,\n",
        "                    scores,\n",
        "                    category_index,\n",
        "                    figsize=(12, 16),\n",
        "                    image_name=None):\n",
        "  \"\"\"Wrapper function to visualize detections.\n",
        "\n",
        "  Args:\n",
        "    image_np: uint8 numpy array with shape (img_height, img_width, 3)\n",
        "    boxes: a numpy array of shape [N, 4]\n",
        "    classes: a numpy array of shape [N]. Note that class indices are 1-based,\n",
        "      and match the keys in the label map.\n",
        "    scores: a numpy array of shape [N] or None.  If scores=None, then\n",
        "      this function assumes that the boxes to be plotted are groundtruth\n",
        "      boxes and plot all boxes as black with no classes or scores.\n",
        "    category_index: a dict containing category dictionaries (each holding\n",
        "      category index `id` and category name `name`) keyed by category indices.\n",
        "    figsize: size for the figure.\n",
        "    image_name: a name for the image file.\n",
        "  \"\"\"\n",
        "  image_np_with_annotations = image_np.copy()\n",
        "  viz_utils.visualize_boxes_and_labels_on_image_array(\n",
        "      image_np_with_annotations,\n",
        "      boxes,\n",
        "      classes,\n",
        "      scores,\n",
        "      category_index,\n",
        "      use_normalized_coordinates=True,\n",
        "      min_score_thresh=0.8)\n",
        "  if image_name:\n",
        "    plt.imsave(image_name, image_np_with_annotations)\n",
        "  else:\n",
        "    plt.imshow(image_np_with_annotations)"
      ],
      "metadata": {
        "id": "RbvyQsyck1V1"
      },
      "execution_count": null,
      "outputs": []
    },
    {
      "cell_type": "code",
      "source": [
        "def convert_csv_into_numpy_array(csv, im_width, im_height):\n",
        "  # xmin,ymin,xmax,ymax\n",
        "  xmin, ymin, xmax, ymax = list(map(int, csv))\n",
        "  xmin /= im_width\n",
        "  ymin /= im_height\n",
        "  xmax /= im_width\n",
        "  ymax /= im_height\n",
        "  return np.array([[ymin, xmin, ymax, xmax]], dtype=np.float32)"
      ],
      "metadata": {
        "id": "gobxJ2l4vH8t"
      },
      "execution_count": null,
      "outputs": []
    },
    {
      "cell_type": "code",
      "source": [
        "def plot_detections(image_np, boxes, classes, scores, category_index, figsize=(12, 16), image_name=None):\n",
        "  image_np_with_annotations = image_np.copy()\n",
        "  viz_utils.visualize_boxes_and_labels_on_image_array(\n",
        "      image_np_with_annotations,\n",
        "      boxes, classes, scores, category_index,\n",
        "      use_normalized_coordinates=True,\n",
        "      min_score_thresh=0.8\n",
        "  )\n",
        "  if image_name:\n",
        "    plt.imsave(image_name, image_np_with_annotations)\n",
        "  else:\n",
        "    plt.imshow(image_np_with_annotations)"
      ],
      "metadata": {
        "id": "7J_NgD-F7m6w"
      },
      "execution_count": null,
      "outputs": []
    },
    {
      "cell_type": "code",
      "source": [
        "%%bash\n",
        "# wget http://image.ntua.gr/iva/datasets/flickr_logos/flickr_logos_27_dataset.tar.gz\n",
        "cp /content/drive/MyDrive/DeepLogo2/train_data/flickr_logos_27_dataset.tar.gz .\n",
        "tar zxvf flickr_logos_27_dataset.tar.gz\n",
        "cd flickr_logos_27_dataset\n",
        "tar zxvf flickr_logos_27_dataset_images.tar.gz\n",
        "cd .."
      ],
      "metadata": {
        "id": "oBvbzfL4qOgj"
      },
      "execution_count": null,
      "outputs": []
    },
    {
      "cell_type": "code",
      "source": [
        "%%bash\n",
        "python preproc_annot.py"
      ],
      "metadata": {
        "id": "KNjaBZKeqkRe"
      },
      "execution_count": null,
      "outputs": []
    },
    {
      "cell_type": "markdown",
      "source": [
        "## Load and visualize train images"
      ],
      "metadata": {
        "id": "indN8AAwEF_z"
      }
    },
    {
      "cell_type": "code",
      "source": [
        "train_annot_csv = 'flickr_logos_27_dataset/flickr_logos_27_dataset_training_set_annotation_cropped.txt'\n",
        "train_img_dir = 'flickr_logos_27_dataset/flickr_logos_27_dataset_images'\n",
        "train_img_npy = '/content/drive/MyDrive/DeepLogo2/train_data/train_images_np.npy'\n",
        "gt_boxes_npy = '/content/drive/MyDrive/DeepLogo2/train_data/gt_boxes.npy'\n",
        "gt_class_ids_npy = '/content/drive/MyDrive/DeepLogo2/train_data/gt_class_ids.npy'\n",
        "\n",
        "train_images_np = []# if not os.path.exists(train_img_npy) else np.load(train_img_npy, allow_pickle=True)\n",
        "gt_boxes = []# if not os.path.exists(gt_boxes_npy) else np.load(gt_boxes_npy, allow_pickle=True)\n",
        "gt_class_ids = []# if not os.path.exists(gt_class_ids_npy) else np.load(gt_class_ids_npy, allow_pickle=True)\n",
        "\n",
        "if len(train_images_np) == 0 or len(gt_boxes) == 0 or len(gt_class_ids) == 0:\n",
        "  csvs = np.loadtxt(train_annot_csv, dtype=str, delimiter=',')\n",
        "  for csv in tqdm(csvs):\n",
        "    if csv[-1] != '0':\n",
        "      continue\n",
        "    img_fname = csv[0]\n",
        "    with tf.io.gfile.GFile(os.path.join(train_img_dir, img_fname), 'rb') as fid:\n",
        "      encoded_jpg = fid.read()\n",
        "    encoded_jpg_io = io.BytesIO(encoded_jpg)\n",
        "    image = Image.open(encoded_jpg_io)\n",
        "    width, height = image.size\n",
        "\n",
        "    train_images_np.append(load_image_into_numpy_array(os.path.join(train_img_dir, img_fname)))\n",
        "    gt_boxes.append(convert_csv_into_numpy_array(csv[1:-1], width, height))\n",
        "    class_id = int(csv[-1])\n",
        "    gt_class_ids.append(class_id)\n",
        "\n",
        "NUM_TRAIN_SAMPLES = 5#len(train_images_np)\n",
        "train_images_np = train_images_np[:NUM_TRAIN_SAMPLES]\n",
        "gt_boxes = gt_boxes[:NUM_TRAIN_SAMPLES]\n",
        "gt_class_ids = gt_class_ids[:NUM_TRAIN_SAMPLES]\n",
        "\n",
        "plt.rcParams['axes.grid'] = False\n",
        "plt.rcParams['figure.figsize'] = [12, 5]\n",
        "\n",
        "for idx, train_image_np in enumerate(train_images_np):\n",
        "  plt.subplot(1, 5, idx + 1)\n",
        "  plt.imshow(train_image_np)\n",
        "plt.show()"
      ],
      "metadata": {
        "id": "dZeHV2Haq6jN"
      },
      "execution_count": null,
      "outputs": []
    },
    {
      "cell_type": "markdown",
      "source": [
        "### Assign class category index"
      ],
      "metadata": {
        "id": "n3fYN-vyLtaN"
      }
    },
    {
      "cell_type": "code",
      "source": [
        "adidas_class_id = 1\n",
        "\n",
        "category_index = {\n",
        "    adidas_class_id : {'id' : adidas_class_id, 'name' : 'adidas'}}\n",
        "\n",
        "# Specify the number of classes that the model will predict\n",
        "num_classes = 1"
      ],
      "metadata": {
        "id": "TH5k1CzWL0aa"
      },
      "execution_count": null,
      "outputs": []
    },
    {
      "cell_type": "markdown",
      "source": [
        "### Visualize ground truth bbox"
      ],
      "metadata": {
        "id": "-SltYwV0Mn6g"
      }
    },
    {
      "cell_type": "code",
      "source": [
        "# give boxes a score of 100%\n",
        "dummy_scores = np.array([1.0], dtype=np.float32)\n",
        "\n",
        "# define the figure size\n",
        "plt.figure(figsize=(30, 15))\n",
        "\n",
        "# use the `plot_detections()` utility function to draw the ground truth boxes\n",
        "for idx in range(5):\n",
        "    plt.subplot(1, 5, idx+1)\n",
        "    plot_detections(\n",
        "      train_images_np[idx],\n",
        "      gt_boxes[idx],\n",
        "      np.ones(shape=[gt_boxes[idx].shape[0]], dtype=np.int32),\n",
        "      dummy_scores, category_index)\n",
        "\n",
        "plt.show()"
      ],
      "metadata": {
        "id": "pfRQDEoVMqf3"
      },
      "execution_count": null,
      "outputs": []
    },
    {
      "cell_type": "code",
      "source": [
        "# class_names = [\n",
        "#   \"Adidas\", \n",
        "#   # \"Apple\", \"BMW\", \"Citroen\", \"Cocacola\",\n",
        "#   # \"DHL\", \"Fedex\", \"Ferrari\", \"Ford\", \"Google\", \n",
        "#   # \"HP\", \"Heineken\", \"Intel\", \"McDonalds\", \"Mini\", \n",
        "#   # \"Nbc\", \"Nike\", \"Pepsi\", \"Porsche\", \"Puma\", \n",
        "#   # \"RedBull\", \"Sprite\", \"Starbucks\", \"Texaco\", \"Unicef\",\n",
        "#   # \"Vodafone\", \"Yahoo\"\n",
        "# ]"
      ],
      "metadata": {
        "id": "xv_1jHW9Fxoz"
      },
      "execution_count": null,
      "outputs": []
    },
    {
      "cell_type": "code",
      "source": [
        "# def create_category_index(class_names):\n",
        "#   category_index = {}\n",
        "#   for i, class_name in enumerate(class_names):\n",
        "#     category_index[i+1] = {'id': i + 1, 'name': class_name}\n",
        "#   return category_index"
      ],
      "metadata": {
        "id": "Cog-RUxzGgm8"
      },
      "execution_count": null,
      "outputs": []
    },
    {
      "cell_type": "code",
      "source": [
        "# category_index = create_category_index(class_names)\n",
        "# num_classes = len(category_index)"
      ],
      "metadata": {
        "id": "dzsHj2_3IeAd"
      },
      "execution_count": null,
      "outputs": []
    },
    {
      "cell_type": "code",
      "source": [
        "# import pprint\n",
        "# pprint.pprint(num_classes)\n",
        "# pprint.pprint(category_index)"
      ],
      "metadata": {
        "id": "Q5J6qJ5fIh8P"
      },
      "execution_count": null,
      "outputs": []
    },
    {
      "cell_type": "code",
      "source": [
        "# gt_boxes = [\n",
        "#             np.array([[0.436, 0.591, 0.629, 0.712]], dtype=np.float32),\n",
        "#             np.array([[0.539, 0.583, 0.73, 0.71]], dtype=np.float32),\n",
        "#             np.array([[0.464, 0.414, 0.626, 0.548]], dtype=np.float32),\n",
        "#             np.array([[0.313, 0.308, 0.648, 0.526]], dtype=np.float32),\n",
        "#             np.array([[0.256, 0.444, 0.484, 0.629]], dtype=np.float32)\n",
        "# ]"
      ],
      "metadata": {
        "id": "9c580cX4zi67"
      },
      "execution_count": null,
      "outputs": []
    },
    {
      "cell_type": "code",
      "source": [
        "# # By convention, our non-background classes start counting at 1.  Given\n",
        "# # that we will be predicting just one class, we will therefore assign it a\n",
        "# # `class id` of 1.\n",
        "# adidas_class_id = 1\n",
        "# num_classes = 1\n",
        "\n",
        "# category_index = {adidas_class_id: {'id': adidas_class_id, 'name': 'adidas'}}\n",
        "\n",
        "# # Convert class labels to one-hot; convert everything to tensors.\n",
        "# # The `label_id_offset` here shifts all classes by a certain number of indices;\n",
        "# # we do this here so that the model receives one-hot labels where non-background\n",
        "# # classes start counting at the zeroth index.  This is ordinarily just handled\n",
        "# # automatically in our training binaries, but we need to reproduce it here.\n",
        "# label_id_offset = 1\n",
        "# train_image_tensors = []\n",
        "# gt_classes_one_hot_tensors = []\n",
        "# gt_box_tensors = []\n",
        "# for (train_image_np, gt_box_np) in zip(\n",
        "#     train_images_np, gt_boxes):\n",
        "#   train_image_tensors.append(tf.expand_dims(tf.convert_to_tensor(\n",
        "#       train_image_np, dtype=tf.float32), axis=0))\n",
        "#   gt_box_tensors.append(tf.convert_to_tensor(gt_box_np, dtype=tf.float32))\n",
        "#   zero_indexed_groundtruth_classes = tf.convert_to_tensor(\n",
        "#       np.ones(shape=[gt_box_np.shape[0]], dtype=np.int32) - label_id_offset)\n",
        "#   gt_classes_one_hot_tensors.append(tf.one_hot(\n",
        "#       zero_indexed_groundtruth_classes, num_classes))\n",
        "# print('Done prepping data.')\n",
        "\n",
        "\n",
        "# By convention, our non-background classes start counting at 1.  Given\n",
        "# that we will be predicting just one class, we will therefore assign it a\n",
        "# `class id` of 1.\n",
        "duck_class_id = 1\n",
        "num_classes = 1\n",
        "\n",
        "category_index = {duck_class_id: {'id': duck_class_id, 'name': 'rubber_ducky'}}\n",
        "\n",
        "# Convert class labels to one-hot; convert everything to tensors.\n",
        "# The `label_id_offset` here shifts all classes by a certain number of indices;\n",
        "# we do this here so that the model receives one-hot labels where non-background\n",
        "# classes start counting at the zeroth index.  This is ordinarily just handled\n",
        "# automatically in our training binaries, but we need to reproduce it here.\n",
        "label_id_offset = 1\n",
        "train_image_tensors = []\n",
        "gt_classes_one_hot_tensors = []\n",
        "gt_box_tensors = []\n",
        "for (train_image_np, gt_box_np) in zip(\n",
        "    train_images_np, gt_boxes):\n",
        "  train_image_tensors.append(tf.expand_dims(tf.convert_to_tensor(\n",
        "      train_image_np, dtype=tf.float32), axis=0))\n",
        "  gt_box_tensors.append(tf.convert_to_tensor(gt_box_np, dtype=tf.float32))\n",
        "  zero_indexed_groundtruth_classes = tf.convert_to_tensor(\n",
        "      np.ones(shape=[gt_box_np.shape[0]], dtype=np.int32) - label_id_offset)\n",
        "  gt_classes_one_hot_tensors.append(tf.one_hot(\n",
        "      zero_indexed_groundtruth_classes, num_classes))\n",
        "print('Done prepping data.')\n"
      ],
      "metadata": {
        "id": "srJ1k_Hy9bWo"
      },
      "execution_count": null,
      "outputs": []
    },
    {
      "cell_type": "code",
      "source": [
        "# dummy_scores = np.array([1.0], dtype=np.float32)  # give boxes a score of 100%\n",
        "\n",
        "# plt.figure(figsize=(30, 15))\n",
        "# for idx in range(5):\n",
        "#   plt.subplot(2, 3, idx+1)\n",
        "#   plot_detections(\n",
        "#       train_images_np[idx],\n",
        "#       gt_boxes[idx],\n",
        "#       np.ones(shape=[gt_boxes[idx].shape[0]], dtype=np.int32),\n",
        "#       dummy_scores, category_index)\n",
        "# plt.show()\n",
        "\n",
        "dummy_scores = np.array([1.0], dtype=np.float32)  # give boxes a score of 100%\n",
        "\n",
        "plt.figure(figsize=(30, 15))\n",
        "for idx in range(5):\n",
        "  plt.subplot(2, 3, idx+1)\n",
        "  plot_detections(\n",
        "      train_images_np[idx],\n",
        "      gt_boxes[idx],\n",
        "      np.ones(shape=[gt_boxes[idx].shape[0]], dtype=np.int32),\n",
        "      dummy_scores, category_index)\n",
        "plt.show()"
      ],
      "metadata": {
        "id": "AeiXQ5Qrq8sa"
      },
      "execution_count": null,
      "outputs": []
    },
    {
      "cell_type": "code",
      "source": [
        "# # # Download the checkpoint and put it into models/research/object_detection/test_data/\n",
        "\n",
        "# !wget http://download.tensorflow.org/models/object_detection/tf2/20200711/ssd_resnet50_v1_fpn_640x640_coco17_tpu-8.tar.gz\n",
        "# !tar -xf ssd_resnet50_v1_fpn_640x640_coco17_tpu-8.tar.gz\n",
        "# #!wget http://download.tensorflow.org/models/object_detection/tf2/20200711/ssd_mobilenet_v2_fpnlite_640x640_coco17_tpu-8.tar.gz\n",
        "# #!tar -xf ssd_mobilenet_v2_fpnlite_640x640_coco17_tpu-8.tar.gz\n",
        "\n",
        "# Download the checkpoint and put it into models/research/object_detection/test_data/\n",
        "\n",
        "!wget http://download.tensorflow.org/models/object_detection/tf2/20200711/ssd_resnet50_v1_fpn_640x640_coco17_tpu-8.tar.gz\n",
        "!tar -xf ssd_resnet50_v1_fpn_640x640_coco17_tpu-8.tar.gz\n",
        "!mv ssd_resnet50_v1_fpn_640x640_coco17_tpu-8/checkpoint models/research/object_detection/test_data/"
      ],
      "metadata": {
        "id": "o6Rf_jwHEQP-"
      },
      "execution_count": null,
      "outputs": []
    },
    {
      "cell_type": "code",
      "source": [
        "# tf.keras.backend.clear_session()\n",
        "\n",
        "# print('Building model and restoring weights for fine-tuning...', flush=True)\n",
        "# num_classes = 1\n",
        "# pipeline_config = 'models/research/object_detection/configs/tf2/ssd_resnet50_v1_fpn_640x640_coco17_tpu-8.config'\n",
        "# checkpoint_path = '/content/DeepLogo2/ssd_resnet50_v1_fpn_640x640_coco17_tpu-8/checkpoint/ckpt-0'\n",
        "\n",
        "# # Load pipeline config and build a detection model.\n",
        "# #\n",
        "# # Since we are working off of a COCO architecture which predicts 90\n",
        "# # class slots by default, we override the `num_classes` field here to be just\n",
        "# # one (for our new rubber ducky class).\n",
        "# configs = config_util.get_configs_from_pipeline_file(pipeline_config)\n",
        "# model_config = configs['model']\n",
        "# model_config.ssd.num_classes = num_classes\n",
        "# model_config.ssd.freeze_batchnorm = True\n",
        "# detection_model = model_builder.build(\n",
        "#       model_config=model_config, is_training=True)\n",
        "\n",
        "# # Set up object-based checkpoint restore --- RetinaNet has two prediction\n",
        "# # `heads` --- one for classification, the other for box regression.  We will\n",
        "# # restore the box regression head but initialize the classification head\n",
        "# # from scratch (we show the omission below by commenting out the line that\n",
        "# # we would add if we wanted to restore both heads)\n",
        "# fake_box_predictor = tf.compat.v2.train.Checkpoint(\n",
        "#     _base_tower_layers_for_heads=detection_model._box_predictor._base_tower_layers_for_heads,\n",
        "#     # _prediction_heads=detection_model._box_predictor._prediction_heads,\n",
        "#     #    (i.e., the classification head that we *will not* restore)\n",
        "#     _box_prediction_head=detection_model._box_predictor._box_prediction_head,\n",
        "#     )\n",
        "# fake_model = tf.compat.v2.train.Checkpoint(\n",
        "#           _feature_extractor=detection_model._feature_extractor,\n",
        "#           _box_predictor=fake_box_predictor)\n",
        "# ckpt = tf.compat.v2.train.Checkpoint(model=fake_model)\n",
        "# ckpt.restore(checkpoint_path).expect_partial()\n",
        "\n",
        "# # Run model through a dummy image so that variables are created\n",
        "# image, shapes = detection_model.preprocess(tf.zeros([1, 640, 640, 3]))\n",
        "# prediction_dict = detection_model.predict(image, shapes)\n",
        "# _ = detection_model.postprocess(prediction_dict, shapes)\n",
        "# print('Weights restored!')\n",
        "\n",
        "# # tf.keras.backend.clear_session()\n",
        "\n",
        "# # print('Building model and restoring weights for fine-tuning.', flush=True)\n",
        "# # #pipeline_config = 'models/research/object_detection/configs/tf2/ssd_resnet50_v1_fpn_640x640_coco17_tpu-8.config'\n",
        "# # #checkpoint_path = 'models/research/object_detection/test_data/checkpoint/ckpt-0'\n",
        "# # pipeline_config = 'models/research/object_detection/configs/tf2/ssd_mobilenet_v2_fpnlite_640x640_coco17_tpu-8.config'\n",
        "# # checkpoint_path = 'ssd_mobilenet_v2_fpnlite_640x640_coco17_tpu-8/checkpoint/ckpt-0'\n",
        "\n",
        "# # # Load pipeling config and build a detection model\n",
        "# # #\n",
        "# # # Since we are working off of a COCO architecture which predicts 90\n",
        "# # # class slots by default, we override the `num_classes` field here to be just one\n",
        "# # configs = config_util.get_configs_from_pipeline_file(pipeline_config)\n",
        "# # model_config = configs['model']\n",
        "# # model_config.ssd.num_classes = num_classes\n",
        "# # model_config.ssd.freeze_batchnorm = True\n",
        "# # detection_model = model_builder.build(\n",
        "# #     model_config=model_config, is_training=True\n",
        "# # )\n",
        "\n",
        "# # # Define checkpoints for desired layers\n",
        "# # #\n",
        "# # # We will now isolate the layers of `detection_model` that you wish to reuse so that you can\n",
        "# # # restore the weights to just those layers.\n",
        "# # # 1. Define checkpoints for the box predictor\n",
        "# # # 2. Define checkpoints for the model, which will point to this box predictor checkpoint as well as the feature extraction layers\n",
        "# # # 3. Restore the checkpoint for desired layers\n",
        "# # fake_box_predictor = tf.compat.v2.train.Checkpoint(\n",
        "# #     _base_tower_layers_for_heads=detection_model._box_predictor._base_tower_layers_for_heads,\n",
        "# #     #_prediction_heads=detection_model._box_predictor._prediction_heads,\n",
        "# #     _box_prediction_heads=detection_model._box_predictor._box_prediction_head,\n",
        "# # )\n",
        "# # fake_model = tf.compat.v2.train.Checkpoint(\n",
        "# #     _feature_extractor=detection_model._feature_extractor,\n",
        "# #     _box_predictor=fake_box_predictor\n",
        "# # )\n",
        "# # ckpt = tf.compat.v2.train.Checkpoint(model=fake_model)\n",
        "# # ckpt.restore(checkpoint_path).expect_partial()\n",
        "\n",
        "# # # Run model through a dummy image so that variables are created\n",
        "# # image, shapes = detection_model.preprocess(tf.zeros([1, 640, 640, 3]))\n",
        "# # prediction_dict = detection_model.predict(image, shapes)\n",
        "# # _ = detection_model.postprocess(prediction_dict, shapes)\n",
        "# # print('Weights restored')"
      ],
      "metadata": {
        "id": "VqjEadc9Bu9U"
      },
      "execution_count": null,
      "outputs": []
    },
    {
      "cell_type": "code",
      "source": [
        "# tf.keras.backend.clear_session()\n",
        "\n",
        "# print('Building model and restoring weights for fine-tuning...', flush=True)\n",
        "# num_classes = 1\n",
        "# # pipeline_config = 'models/research/object_detection/configs/tf2/ssd_resnet50_v1_fpn_640x640_coco17_tpu-8.config'\n",
        "# # checkpoint_path = 'models/research/object_detection/test_data/checkpoint/ckpt-0'\n",
        "# # pipeline_config = 'models/research/object_detection/configs/tf2/ssd_resnet50_v1_fpn_640x640_coco17_tpu-8.config'\n",
        "# # checkpoint_path = '/content/DeepLogo2/ssd_resnet50_v1_fpn_640x640_coco17_tpu-8/checkpoint/ckpt-0'\n",
        "# pipeline_config = 'ssd_mobilenet_v2_fpnlite_640x640_coco17_tpu-8/pipeline.config'\n",
        "# checkpoint_path = 'ssd_mobilenet_v2_fpnlite_640x640_coco17_tpu-8/checkpoint/ckpt-0'\n",
        "\n",
        "\n",
        "# # Load pipeline config and build a detection model.\n",
        "# #\n",
        "# # Since we are working off of a COCO architecture which predicts 90\n",
        "# # class slots by default, we override the `num_classes` field here to be just\n",
        "# # one (for our new rubber ducky class).\n",
        "# configs = config_util.get_configs_from_pipeline_file(pipeline_config)\n",
        "# model_config = configs['model']\n",
        "# model_config.ssd.num_classes = num_classes\n",
        "# model_config.ssd.freeze_batchnorm = True\n",
        "# detection_model = model_builder.build(\n",
        "#       model_config=model_config, is_training=True)\n",
        "\n",
        "# # Set up object-based checkpoint restore --- RetinaNet has two prediction\n",
        "# # `heads` --- one for classification, the other for box regression.  We will\n",
        "# # restore the box regression head but initialize the classification head\n",
        "# # from scratch (we show the omission below by commenting out the line that\n",
        "# # we would add if we wanted to restore both heads)\n",
        "# fake_box_predictor = tf.compat.v2.train.Checkpoint(\n",
        "#     _base_tower_layers_for_heads=detection_model._box_predictor._base_tower_layers_for_heads,\n",
        "#     # _prediction_heads=detection_model._box_predictor._prediction_heads,\n",
        "#     #    (i.e., the classification head that we *will not* restore)\n",
        "#     _box_prediction_head=detection_model._box_predictor._box_prediction_head,\n",
        "#     )\n",
        "# fake_model = tf.compat.v2.train.Checkpoint(\n",
        "#           _feature_extractor=detection_model._feature_extractor,\n",
        "#           _box_predictor=fake_box_predictor)\n",
        "# ckpt = tf.compat.v2.train.Checkpoint(model=fake_model)\n",
        "# ckpt.restore(checkpoint_path).expect_partial()\n",
        "\n",
        "# # Run model through a dummy image so that variables are created\n",
        "# image, shapes = detection_model.preprocess(tf.zeros([1, 640, 640, 3]))\n",
        "# prediction_dict = detection_model.predict(image, shapes)\n",
        "# _ = detection_model.postprocess(prediction_dict, shapes)\n",
        "# print('Weights restored!')\n",
        "\n",
        "tf.keras.backend.clear_session()\n",
        "\n",
        "print('Building model and restoring weights for fine-tuning...', flush=True)\n",
        "num_classes = 1\n",
        "pipeline_config = 'models/research/object_detection/configs/tf2/ssd_resnet50_v1_fpn_640x640_coco17_tpu-8.config'\n",
        "checkpoint_path = 'models/research/object_detection/test_data/checkpoint/ckpt-0'\n",
        "\n",
        "# Load pipeline config and build a detection model.\n",
        "#\n",
        "# Since we are working off of a COCO architecture which predicts 90\n",
        "# class slots by default, we override the `num_classes` field here to be just\n",
        "# one (for our new rubber ducky class).\n",
        "configs = config_util.get_configs_from_pipeline_file(pipeline_config)\n",
        "model_config = configs['model']\n",
        "model_config.ssd.num_classes = num_classes\n",
        "model_config.ssd.freeze_batchnorm = True\n",
        "detection_model = model_builder.build(\n",
        "      model_config=model_config, is_training=True)\n",
        "\n",
        "# Set up object-based checkpoint restore --- RetinaNet has two prediction\n",
        "# `heads` --- one for classification, the other for box regression.  We will\n",
        "# restore the box regression head but initialize the classification head\n",
        "# from scratch (we show the omission below by commenting out the line that\n",
        "# we would add if we wanted to restore both heads)\n",
        "fake_box_predictor = tf.compat.v2.train.Checkpoint(\n",
        "    _base_tower_layers_for_heads=detection_model._box_predictor._base_tower_layers_for_heads,\n",
        "    # _prediction_heads=detection_model._box_predictor._prediction_heads,\n",
        "    #    (i.e., the classification head that we *will not* restore)\n",
        "    _box_prediction_head=detection_model._box_predictor._box_prediction_head,\n",
        "    )\n",
        "fake_model = tf.compat.v2.train.Checkpoint(\n",
        "          _feature_extractor=detection_model._feature_extractor,\n",
        "          _box_predictor=fake_box_predictor)\n",
        "ckpt = tf.compat.v2.train.Checkpoint(model=fake_model)\n",
        "ckpt.restore(checkpoint_path).expect_partial()\n",
        "\n",
        "# Run model through a dummy image so that variables are created\n",
        "image, shapes = detection_model.preprocess(tf.zeros([1, 640, 640, 3]))\n",
        "prediction_dict = detection_model.predict(image, shapes)\n",
        "_ = detection_model.postprocess(prediction_dict, shapes)\n",
        "print('Weights restored!')"
      ],
      "metadata": {
        "id": "x1ML7XOJrHDp"
      },
      "execution_count": null,
      "outputs": []
    },
    {
      "cell_type": "markdown",
      "source": [
        "## Training loop"
      ],
      "metadata": {
        "id": "qLcKHUI-g1fN"
      }
    },
    {
      "cell_type": "code",
      "source": [
        "# tf.keras.backend.set_learning_phase(True)"
      ],
      "metadata": {
        "id": "YnmEFgrsa5Ov"
      },
      "execution_count": null,
      "outputs": []
    },
    {
      "cell_type": "code",
      "source": [
        "# # Inspect the layers of `detection_model`\n",
        "# for i, v in enumerate(detection_model.trainable_variables):\n",
        "#   pprint.pprint('i: {}, name: {}, shape: {}, dtype: {}'.format(i, v.name, v.shape, v.dtype))"
      ],
      "metadata": {
        "id": "zMyBk12Rg3Vg"
      },
      "execution_count": null,
      "outputs": []
    },
    {
      "cell_type": "code",
      "source": [
        "# # Select the prediction layers\n",
        "# trainable_variables = detection_model.trainable_variables\n",
        "# to_fine_tune = []\n",
        "# prefixes_to_train = [\n",
        "#   'WeightSharedConvolutionalBoxPredictor/WeightSharedConvolutionalBoxHead',\n",
        "#   'WeightSharedConvolutionalBoxPredictor/WeightSharedConvolutionalClassHead']\n",
        "# for var in trainable_variables:\n",
        "#   if any([var.name.startswith(prefix) for prefix in prefixes_to_train]):\n",
        "#     to_fine_tune.append(var)"
      ],
      "metadata": {
        "id": "OlL9N08UiM18"
      },
      "execution_count": null,
      "outputs": []
    },
    {
      "cell_type": "code",
      "source": [
        "# batch_size = 1\n",
        "# learning_rate = 0.01\n",
        "# num_batches = 100 * (len(train_images_np) // batch_size)"
      ],
      "metadata": {
        "id": "i6x8ygjxvgHq"
      },
      "execution_count": null,
      "outputs": []
    },
    {
      "cell_type": "code",
      "source": [
        "# # Set up for fwd + bwd pass for a single train step\n",
        "# def get_model_train_step_function(model, optimizer, vars_to_fine_tune):\n",
        "#   @tf.function\n",
        "#   def train_step_fn(image_tensors,\n",
        "#                     groundtruth_boxes_list,\n",
        "#                     groundtruth_classes_list):\n",
        "#     shapes = tf.constant(batch_size * [[640, 640, 3]], dtype=tf.int32)\n",
        "#     model.provide_groundtruth(\n",
        "#         groundtruth_boxes_list=groundtruth_boxes_list,\n",
        "#         groundtruth_classes_list=groundtruth_classes_list\n",
        "#     )\n",
        "#     with tf.GradientTape() as tape:\n",
        "#       preprocessed_images = tf.concat(\n",
        "#           [detection_model.preprocess(image_tensor)[0]\n",
        "#            for image_tensor in image_tensors], axis=0\n",
        "#       )\n",
        "#       prediction_dict = model.predict(preprocessed_images, shapes)\n",
        "#       losses_dict = model.loss(prediction_dict, shapes)\n",
        "#       total_loss = losses_dict['Loss/localization_loss'] + losses_dict['Loss/classification_loss']\n",
        "#       gradients = tape.gradient(total_loss, vars_to_fine_tune)\n",
        "#       optimizer.apply_gradients(zip(gradients, vars_to_fine_tune))\n",
        "#     return total_loss\n",
        "\n",
        "#   return train_step_fn"
      ],
      "metadata": {
        "id": "aIXH9hDKlgxT"
      },
      "execution_count": null,
      "outputs": []
    },
    {
      "cell_type": "code",
      "source": [
        "# optimizer = tf.keras.optimizers.SGD(learning_rate=learning_rate, momentum=0.9)\n",
        "# train_step_fn = get_model_train_step_function(detection_model, optimizer, to_fine_tune)\n",
        "\n",
        "# print('Start fine-tuning', flush=True)\n",
        "# for idx in range(num_batches):\n",
        "#   all_keys = list(range(len(train_images_np)))\n",
        "#   random.shuffle(all_keys)\n",
        "#   example_keys = all_keys[:batch_size]\n",
        "\n",
        "#   gt_boxes_list = [gt_box_tensors[key] for key in example_keys]\n",
        "#   gt_classes_list = [gt_classes_one_hot_tensors[key] for key in example_keys]\n",
        "#   image_tensors = [train_image_tensors[key] for key in example_keys]\n",
        "\n",
        "#   total_loss = train_step_fn(image_tensors, gt_boxes_list, gt_classes_list)\n",
        "\n",
        "#   if idx != 0 and idx % 10 == 0:\n",
        "#     print('batch ' + str(idx) + ' of ' + str(num_batches) + ', loss=' + str(total_loss.numpy()), flush=True)\n",
        "\n",
        "# print('Done fine-tuning')"
      ],
      "metadata": {
        "id": "lNDw5w3QnZAL"
      },
      "execution_count": null,
      "outputs": []
    },
    {
      "cell_type": "code",
      "source": [
        "# tf.keras.backend.set_learning_phase(True)\n",
        "\n",
        "# # These parameters can be tuned; since our training set has 5 images\n",
        "# # it doesn't make sense to have a much larger batch size, though we could\n",
        "# # fit more examples in memory if we wanted to.\n",
        "# batch_size = 4\n",
        "# learning_rate = 0.01\n",
        "# num_batches = 100\n",
        "\n",
        "# # Select variables in top layers to fine-tune.\n",
        "# trainable_variables = detection_model.trainable_variables\n",
        "# to_fine_tune = []\n",
        "# prefixes_to_train = [\n",
        "#   'WeightSharedConvolutionalBoxPredictor/WeightSharedConvolutionalBoxHead',\n",
        "#   'WeightSharedConvolutionalBoxPredictor/WeightSharedConvolutionalClassHead']\n",
        "# for var in trainable_variables:\n",
        "#   if any([var.name.startswith(prefix) for prefix in prefixes_to_train]):\n",
        "#     to_fine_tune.append(var)\n",
        "\n",
        "# # Set up forward + backward pass for a single train step.\n",
        "# def get_model_train_step_function(model, optimizer, vars_to_fine_tune):\n",
        "#   \"\"\"Get a tf.function for training step.\"\"\"\n",
        "\n",
        "#   # Use tf.function for a bit of speed.\n",
        "#   # Comment out the tf.function decorator if you want the inside of the\n",
        "#   # function to run eagerly.\n",
        "#   @tf.function\n",
        "#   def train_step_fn(image_tensors,\n",
        "#                     groundtruth_boxes_list,\n",
        "#                     groundtruth_classes_list):\n",
        "#     \"\"\"A single training iteration.\n",
        "\n",
        "#     Args:\n",
        "#       image_tensors: A list of [1, height, width, 3] Tensor of type tf.float32.\n",
        "#         Note that the height and width can vary across images, as they are\n",
        "#         reshaped within this function to be 640x640.\n",
        "#       groundtruth_boxes_list: A list of Tensors of shape [N_i, 4] with type\n",
        "#         tf.float32 representing groundtruth boxes for each image in the batch.\n",
        "#       groundtruth_classes_list: A list of Tensors of shape [N_i, num_classes]\n",
        "#         with type tf.float32 representing groundtruth boxes for each image in\n",
        "#         the batch.\n",
        "\n",
        "#     Returns:\n",
        "#       A scalar tensor representing the total loss for the input batch.\n",
        "#     \"\"\"\n",
        "#     shapes = tf.constant(batch_size * [[640, 640, 3]], dtype=tf.int32)\n",
        "#     model.provide_groundtruth(\n",
        "#         groundtruth_boxes_list=groundtruth_boxes_list,\n",
        "#         groundtruth_classes_list=groundtruth_classes_list)\n",
        "#     with tf.GradientTape() as tape:\n",
        "#       preprocessed_images = tf.concat(\n",
        "#           [detection_model.preprocess(image_tensor)[0]\n",
        "#            for image_tensor in image_tensors], axis=0)\n",
        "#       prediction_dict = model.predict(preprocessed_images, shapes)\n",
        "#       losses_dict = model.loss(prediction_dict, shapes)\n",
        "#       total_loss = losses_dict['Loss/localization_loss'] + losses_dict['Loss/classification_loss']\n",
        "#       gradients = tape.gradient(total_loss, vars_to_fine_tune)\n",
        "#       optimizer.apply_gradients(zip(gradients, vars_to_fine_tune))\n",
        "#     return total_loss\n",
        "\n",
        "#   return train_step_fn\n",
        "\n",
        "# optimizer = tf.keras.optimizers.SGD(learning_rate=learning_rate, momentum=0.9)\n",
        "# train_step_fn = get_model_train_step_function(\n",
        "#     detection_model, optimizer, to_fine_tune)\n",
        "\n",
        "# print('Start fine-tuning!', flush=True)\n",
        "# for idx in range(num_batches):\n",
        "#   # Grab keys for a random subset of examples\n",
        "#   all_keys = list(range(len(train_images_np)))\n",
        "#   random.shuffle(all_keys)\n",
        "#   example_keys = all_keys[:batch_size]\n",
        "#   print(example_keys)\n",
        "\n",
        "#   # Note that we do not do data augmentation in this demo.  If you want a\n",
        "#   # a fun exercise, we recommend experimenting with random horizontal flipping\n",
        "#   # and random cropping :)\n",
        "#   gt_boxes_list = [gt_box_tensors[key] for key in example_keys]\n",
        "#   gt_classes_list = [gt_classes_one_hot_tensors[key] for key in example_keys]\n",
        "#   image_tensors = [train_image_tensors[key] for key in example_keys]\n",
        "\n",
        "#   # Training step (forward pass + backwards pass)\n",
        "#   total_loss = train_step_fn(image_tensors, gt_boxes_list, gt_classes_list)\n",
        "\n",
        "#   if idx % 10 == 0:\n",
        "#     print('batch ' + str(idx) + ' of ' + str(num_batches)\n",
        "#     + ', loss=' +  str(total_loss.numpy()), flush=True)\n",
        "\n",
        "# print('Done fine-tuning!')"
      ],
      "metadata": {
        "id": "anQxO73WyOE5"
      },
      "execution_count": null,
      "outputs": []
    },
    {
      "cell_type": "code",
      "source": [
        "# tf.keras.backend.set_learning_phase(True)\n",
        "\n",
        "# # These parameters can be tuned; since our training set has 5 images\n",
        "# # it doesn't make sense to have a much larger batch size, though we could\n",
        "# # fit more examples in memory if we wanted to.\n",
        "# batch_size = 4\n",
        "# learning_rate = 0.01\n",
        "# num_batches = 100\n",
        "\n",
        "# # Select variables in top layers to fine-tune.\n",
        "# trainable_variables = detection_model.trainable_variables\n",
        "# to_fine_tune = []\n",
        "# prefixes_to_train = [\n",
        "#   'WeightSharedConvolutionalBoxPredictor/WeightSharedConvolutionalBoxHead',\n",
        "#   'WeightSharedConvolutionalBoxPredictor/WeightSharedConvolutionalClassHead']\n",
        "# for var in trainable_variables:\n",
        "#   if any([var.name.startswith(prefix) for prefix in prefixes_to_train]):\n",
        "#     to_fine_tune.append(var)\n",
        "\n",
        "# # Set up forward + backward pass for a single train step.\n",
        "# def get_model_train_step_function(model, optimizer, vars_to_fine_tune):\n",
        "#   \"\"\"Get a tf.function for training step.\"\"\"\n",
        "\n",
        "#   # Use tf.function for a bit of speed.\n",
        "#   # Comment out the tf.function decorator if you want the inside of the\n",
        "#   # function to run eagerly.\n",
        "#   @tf.function\n",
        "#   def train_step_fn(image_tensors,\n",
        "#                     groundtruth_boxes_list,\n",
        "#                     groundtruth_classes_list):\n",
        "#     \"\"\"A single training iteration.\n",
        "\n",
        "#     Args:\n",
        "#       image_tensors: A list of [1, height, width, 3] Tensor of type tf.float32.\n",
        "#         Note that the height and width can vary across images, as they are\n",
        "#         reshaped within this function to be 640x640.\n",
        "#       groundtruth_boxes_list: A list of Tensors of shape [N_i, 4] with type\n",
        "#         tf.float32 representing groundtruth boxes for each image in the batch.\n",
        "#       groundtruth_classes_list: A list of Tensors of shape [N_i, num_classes]\n",
        "#         with type tf.float32 representing groundtruth boxes for each image in\n",
        "#         the batch.\n",
        "\n",
        "#     Returns:\n",
        "#       A scalar tensor representing the total loss for the input batch.\n",
        "#     \"\"\"\n",
        "#     shapes = tf.constant(batch_size * [[640, 640, 3]], dtype=tf.int32)\n",
        "#     model.provide_groundtruth(\n",
        "#         groundtruth_boxes_list=groundtruth_boxes_list,\n",
        "#         groundtruth_classes_list=groundtruth_classes_list)\n",
        "#     with tf.GradientTape() as tape:\n",
        "#       preprocessed_images = tf.concat(\n",
        "#           [detection_model.preprocess(image_tensor)[0]\n",
        "#            for image_tensor in image_tensors], axis=0)\n",
        "#       prediction_dict = model.predict(preprocessed_images, shapes)\n",
        "#       losses_dict = model.loss(prediction_dict, shapes)\n",
        "#       total_loss = losses_dict['Loss/localization_loss'] + losses_dict['Loss/classification_loss']\n",
        "#       gradients = tape.gradient(total_loss, vars_to_fine_tune)\n",
        "#       optimizer.apply_gradients(zip(gradients, vars_to_fine_tune))\n",
        "#     return total_loss\n",
        "\n",
        "#   return train_step_fn\n",
        "\n",
        "# optimizer = tf.keras.optimizers.SGD(learning_rate=learning_rate, momentum=0.9)\n",
        "# train_step_fn = get_model_train_step_function(\n",
        "#     detection_model, optimizer, to_fine_tune)\n",
        "\n",
        "# print('Start fine-tuning!', flush=True)\n",
        "# for idx in tqdm(range(num_batches)):\n",
        "#   # Grab keys for a random subset of examples\n",
        "#   all_keys = list(range(len(train_images_np)))\n",
        "#   random.shuffle(all_keys)\n",
        "#   example_keys = all_keys[:batch_size]\n",
        "\n",
        "#   # Note that we do not do data augmentation in this demo.  If you want a\n",
        "#   # a fun exercise, we recommend experimenting with random horizontal flipping\n",
        "#   # and random cropping :)\n",
        "#   gt_boxes_list = [gt_box_tensors[key] for key in example_keys]\n",
        "#   gt_classes_list = [gt_classes_one_hot_tensors[key] for key in example_keys]\n",
        "#   image_tensors = [train_image_tensors[key] for key in example_keys]\n",
        "\n",
        "#   # Training step (forward pass + backwards pass)\n",
        "#   total_loss = train_step_fn(image_tensors, gt_boxes_list, gt_classes_list)\n",
        "\n",
        "#   if idx != 0 and idx % 10 == 0:\n",
        "#     print('batch ' + str(idx) + ' of ' + str(num_batches)\n",
        "#     + ', loss=' +  str(total_loss.numpy()), flush=True)\n",
        "\n",
        "# print('Done fine-tuning!')\n",
        "\n",
        "tf.keras.backend.set_learning_phase(True)\n",
        "\n",
        "# These parameters can be tuned; since our training set has 5 images\n",
        "# it doesn't make sense to have a much larger batch size, though we could\n",
        "# fit more examples in memory if we wanted to.\n",
        "batch_size = 4\n",
        "learning_rate = 0.01\n",
        "num_batches = 100\n",
        "\n",
        "# Select variables in top layers to fine-tune.\n",
        "trainable_variables = detection_model.trainable_variables\n",
        "to_fine_tune = []\n",
        "prefixes_to_train = [\n",
        "  'WeightSharedConvolutionalBoxPredictor/WeightSharedConvolutionalBoxHead',\n",
        "  'WeightSharedConvolutionalBoxPredictor/WeightSharedConvolutionalClassHead']\n",
        "for var in trainable_variables:\n",
        "  if any([var.name.startswith(prefix) for prefix in prefixes_to_train]):\n",
        "    to_fine_tune.append(var)\n",
        "\n",
        "# Set up forward + backward pass for a single train step.\n",
        "def get_model_train_step_function(model, optimizer, vars_to_fine_tune):\n",
        "  \"\"\"Get a tf.function for training step.\"\"\"\n",
        "\n",
        "  # Use tf.function for a bit of speed.\n",
        "  # Comment out the tf.function decorator if you want the inside of the\n",
        "  # function to run eagerly.\n",
        "  @tf.function\n",
        "  def train_step_fn(image_tensors,\n",
        "                    groundtruth_boxes_list,\n",
        "                    groundtruth_classes_list):\n",
        "    \"\"\"A single training iteration.\n",
        "\n",
        "    Args:\n",
        "      image_tensors: A list of [1, height, width, 3] Tensor of type tf.float32.\n",
        "        Note that the height and width can vary across images, as they are\n",
        "        reshaped within this function to be 640x640.\n",
        "      groundtruth_boxes_list: A list of Tensors of shape [N_i, 4] with type\n",
        "        tf.float32 representing groundtruth boxes for each image in the batch.\n",
        "      groundtruth_classes_list: A list of Tensors of shape [N_i, num_classes]\n",
        "        with type tf.float32 representing groundtruth boxes for each image in\n",
        "        the batch.\n",
        "\n",
        "    Returns:\n",
        "      A scalar tensor representing the total loss for the input batch.\n",
        "    \"\"\"\n",
        "    shapes = tf.constant(batch_size * [[640, 640, 3]], dtype=tf.int32)\n",
        "    model.provide_groundtruth(\n",
        "        groundtruth_boxes_list=groundtruth_boxes_list,\n",
        "        groundtruth_classes_list=groundtruth_classes_list)\n",
        "    with tf.GradientTape() as tape:\n",
        "      preprocessed_images = tf.concat(\n",
        "          [detection_model.preprocess(image_tensor)[0]\n",
        "           for image_tensor in image_tensors], axis=0)\n",
        "      prediction_dict = model.predict(preprocessed_images, shapes)\n",
        "      losses_dict = model.loss(prediction_dict, shapes)\n",
        "      total_loss = losses_dict['Loss/localization_loss'] + losses_dict['Loss/classification_loss']\n",
        "      gradients = tape.gradient(total_loss, vars_to_fine_tune)\n",
        "      optimizer.apply_gradients(zip(gradients, vars_to_fine_tune))\n",
        "    return total_loss\n",
        "\n",
        "  return train_step_fn\n",
        "\n",
        "optimizer = tf.keras.optimizers.SGD(learning_rate=learning_rate, momentum=0.9)\n",
        "train_step_fn = get_model_train_step_function(\n",
        "    detection_model, optimizer, to_fine_tune)\n",
        "\n",
        "print('Start fine-tuning!', flush=True)\n",
        "for idx in range(num_batches):\n",
        "  # Grab keys for a random subset of examples\n",
        "  all_keys = list(range(len(train_images_np)))\n",
        "  random.shuffle(all_keys)\n",
        "  example_keys = all_keys[:batch_size]\n",
        "\n",
        "  # Note that we do not do data augmentation in this demo.  If you want a\n",
        "  # a fun exercise, we recommend experimenting with random horizontal flipping\n",
        "  # and random cropping :)\n",
        "  gt_boxes_list = [gt_box_tensors[key] for key in example_keys]\n",
        "  gt_classes_list = [gt_classes_one_hot_tensors[key] for key in example_keys]\n",
        "  image_tensors = [train_image_tensors[key] for key in example_keys]\n",
        "\n",
        "  # Training step (forward pass + backwards pass)\n",
        "  total_loss = train_step_fn(image_tensors, gt_boxes_list, gt_classes_list)\n",
        "\n",
        "  if idx % 10 == 0:\n",
        "    print('batch ' + str(idx) + ' of ' + str(num_batches)\n",
        "    + ', loss=' +  str(total_loss.numpy()), flush=True)\n",
        "\n",
        "print('Done fine-tuning!')"
      ],
      "metadata": {
        "id": "Ug9s5lS2rPv7"
      },
      "execution_count": null,
      "outputs": []
    },
    {
      "cell_type": "markdown",
      "source": [
        "## Run Test"
      ],
      "metadata": {
        "id": "fIJbhqgJHG9Z"
      }
    },
    {
      "cell_type": "code",
      "source": [
        "# test_annot_csv = 'flickr_logos_27_dataset/flickr_logos_27_dataset_test_set_annotation_cropped.txt'\n",
        "# test_img_dir = 'flickr_logos_27_dataset/flickr_logos_27_dataset_images'\n",
        "# test_images_np = []\n",
        "# csvs = np.loadtxt(test_annot_csv, dtype=str, delimiter=',')\n",
        "# for csv in tqdm(csvs):\n",
        "#   if csv[-1] != '0':\n",
        "#     continue\n",
        "#   img_fname = csv[0]\n",
        "#   image_path = os.path.join(test_img_dir, img_fname)\n",
        "#   test_images_np.append(np.expand_dims(\n",
        "#       load_image_into_numpy_array(image_path), axis=0)\n",
        "#   )"
      ],
      "metadata": {
        "id": "DKEeMF9v1bcy"
      },
      "execution_count": null,
      "outputs": []
    },
    {
      "cell_type": "code",
      "source": [
        "# for idx, test_image_np in enumerate(test_images_np[:5]):\n",
        "#   plt.subplot(2, 3, idx + 1)\n",
        "#   plt.imshow(test_image_np[0])\n",
        "# plt.show()"
      ],
      "metadata": {
        "id": "u-x93Jzdnw9n"
      },
      "execution_count": null,
      "outputs": []
    },
    {
      "cell_type": "code",
      "source": [
        "# gc.collect()"
      ],
      "metadata": {
        "id": "O03If8jqjZfH"
      },
      "execution_count": null,
      "outputs": []
    },
    {
      "cell_type": "code",
      "source": [
        "# @tf.function\n",
        "# def detect(input_tensor):\n",
        "#   preprocessed_image, shapes = detection_model.preprocess(input_tensor)\n",
        "#   prediction_dict = detection_model.predict(preprocessed_image, shapes)\n",
        "#   return detection_model.postprocess(prediction_dict, shapes)"
      ],
      "metadata": {
        "id": "nKhWJhAm1eJt"
      },
      "execution_count": null,
      "outputs": []
    },
    {
      "cell_type": "code",
      "source": [
        "# # Note that the first frame will trigger tracing of the tf.function, which will\n",
        "# # take some time, after which inference should be fast.\n",
        "# label_id_offset = 1\n",
        "# np.random.shuffle(test_images_np)"
      ],
      "metadata": {
        "id": "_g0IMWxRCfFZ"
      },
      "execution_count": null,
      "outputs": []
    },
    {
      "cell_type": "code",
      "source": [
        "# test_idx = np.random.choice(len(test_images_np))\n",
        "# print(test_idx)"
      ],
      "metadata": {
        "id": "3HRXD_-cGwGW"
      },
      "execution_count": null,
      "outputs": []
    },
    {
      "cell_type": "code",
      "source": [
        "# input_tensor = tf.convert_to_tensor(test_images_np[test_idx], dtype=np.float32)\n",
        "# detections = detect(input_tensor)"
      ],
      "metadata": {
        "id": "KJzo-EzKDDoQ"
      },
      "execution_count": null,
      "outputs": []
    },
    {
      "cell_type": "code",
      "source": [
        "# print(max(detections['detection_scores'][0]))\n",
        "# print(detections['detection_scores'])"
      ],
      "metadata": {
        "id": "fa109HtZHNnI"
      },
      "execution_count": null,
      "outputs": []
    },
    {
      "cell_type": "code",
      "source": [
        "# image_np_with_annotations = test_images_np[test_idx].copy()"
      ],
      "metadata": {
        "id": "nCxvzwRhC0rw"
      },
      "execution_count": null,
      "outputs": []
    },
    {
      "cell_type": "code",
      "source": [
        "# image_np_with_annotations.shape"
      ],
      "metadata": {
        "id": "lPn42SwtdkTI"
      },
      "execution_count": null,
      "outputs": []
    },
    {
      "cell_type": "code",
      "source": [
        "# viz_utils.visualize_boxes_and_labels_on_image_array(\n",
        "#     image_np_with_annotations[0],\n",
        "#     detections['detection_boxes'][0].numpy(), \n",
        "#     detections['detection_classes'][0].numpy().astype(np.uint32) + label_id_offset, \n",
        "#     detections['detection_scores'][0].numpy(), category_index,\n",
        "#     use_normalized_coordinates=True,\n",
        "#     min_score_thresh=0.7\n",
        "# )\n",
        "# plt.imshow(image_np_with_annotations[0])\n",
        "# plt.show()"
      ],
      "metadata": {
        "id": "ebJIq_vBC8Ol"
      },
      "execution_count": null,
      "outputs": []
    },
    {
      "cell_type": "code",
      "source": [
        "test_image_dir = 'models/research/object_detection/test_images/ducky/test/'\n",
        "test_images_np = []\n",
        "for i in range(1, 50):\n",
        "  image_path = os.path.join(test_image_dir, 'out' + str(i) + '.jpg')\n",
        "  test_images_np.append(np.expand_dims(\n",
        "      load_image_into_numpy_array(image_path), axis=0))\n",
        "\n",
        "# Again, uncomment this decorator if you want to run inference eagerly\n",
        "@tf.function\n",
        "def detect(input_tensor):\n",
        "  \"\"\"Run detection on an input image.\n",
        "\n",
        "  Args:\n",
        "    input_tensor: A [1, height, width, 3] Tensor of type tf.float32.\n",
        "      Note that height and width can be anything since the image will be\n",
        "      immediately resized according to the needs of the model within this\n",
        "      function.\n",
        "\n",
        "  Returns:\n",
        "    A dict containing 3 Tensors (`detection_boxes`, `detection_classes`,\n",
        "      and `detection_scores`).\n",
        "  \"\"\"\n",
        "  preprocessed_image, shapes = detection_model.preprocess(input_tensor)\n",
        "  prediction_dict = detection_model.predict(preprocessed_image, shapes)\n",
        "  return detection_model.postprocess(prediction_dict, shapes)\n",
        "\n",
        "# Note that the first frame will trigger tracing of the tf.function, which will\n",
        "# take some time, after which inference should be fast.\n",
        "\n",
        "label_id_offset = 1\n",
        "for i in range(len(test_images_np)):\n",
        "  input_tensor = tf.convert_to_tensor(test_images_np[i], dtype=tf.float32)\n",
        "  detections = detect(input_tensor)\n",
        "\n",
        "  plot_detections(\n",
        "      test_images_np[i][0],\n",
        "      detections['detection_boxes'][0].numpy(),\n",
        "      detections['detection_classes'][0].numpy().astype(np.uint32)\n",
        "      + label_id_offset,\n",
        "      detections['detection_scores'][0].numpy(),\n",
        "      category_index, figsize=(15, 20), image_name=\"gif_frame_\" + ('%02d' % i) + \".jpg\")"
      ],
      "metadata": {
        "id": "gktxF9t0nGFa"
      },
      "execution_count": null,
      "outputs": []
    },
    {
      "cell_type": "code",
      "source": [
        "imageio.plugins.freeimage.download()\n",
        "\n",
        "anim_file = 'duckies_test.gif'\n",
        "\n",
        "filenames = glob.glob('gif_frame_*.jpg')\n",
        "filenames = sorted(filenames)\n",
        "last = -1\n",
        "images = []\n",
        "for filename in filenames:\n",
        "  image = imageio.imread(filename)\n",
        "  images.append(image)\n",
        "\n",
        "imageio.mimsave(anim_file, images, 'GIF-FI', fps=5)\n",
        "\n",
        "display(IPyImage(open(anim_file, 'rb').read()))"
      ],
      "metadata": {
        "id": "4twuaqLO0CE4"
      },
      "execution_count": null,
      "outputs": []
    }
  ]
}