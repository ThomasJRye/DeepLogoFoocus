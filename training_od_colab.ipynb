{
  "cells": [
    {
      "cell_type": "code",
      "execution_count": null,
      "metadata": {
        "id": "jwufQyvf7Wzb"
      },
      "outputs": [],
      "source": [
        "# from google.colab import drive\n",
        "# drive.mount('/content/drive')"
      ]
    },
    {
      "cell_type": "code",
      "execution_count": null,
      "metadata": {
        "id": "-ehAPgQ2o6-j"
      },
      "outputs": [],
      "source": [
        "!git clone https://github.com/satojkovic/DeepLogo2.git"
      ]
    },
    {
      "cell_type": "code",
      "execution_count": null,
      "metadata": {
        "id": "H8Jvk13spGHP"
      },
      "outputs": [],
      "source": [
        "import os\n",
        "os.chdir('DeepLogo2')"
      ]
    },
    {
      "cell_type": "code",
      "execution_count": null,
      "metadata": {
        "id": "oIBaToFkmvR6"
      },
      "outputs": [],
      "source": [
        "import os\n",
        "import pathlib\n",
        "\n",
        "# Clone the tensorflow models repository if it doesn't already exist\n",
        "if \"models\" in pathlib.Path.cwd().parts:\n",
        "  while \"models\" in pathlib.Path.cwd().parts:\n",
        "    os.chdir('..')\n",
        "elif not pathlib.Path('models').exists():\n",
        "  !git clone --depth 1 https://github.com/tensorflow/models"
      ]
    },
    {
      "cell_type": "code",
      "execution_count": null,
      "metadata": {
        "id": "WdOSSSGxqHva"
      },
      "outputs": [],
      "source": [
        "# Install the Object Detection API\n",
        "%%bash\n",
        "cd models/research/\n",
        "protoc object_detection/protos/*.proto --python_out=.\n",
        "cp object_detection/packages/tf2/setup.py .\n",
        "python -m pip install ."
      ]
    },
    {
      "cell_type": "code",
      "execution_count": null,
      "metadata": {
        "id": "BgG4ALyQm3cH"
      },
      "outputs": [],
      "source": [
        "# Workaround for the following error: `DNN library is not found`\n",
        "# https://github.com/tensorflow/models/issues/10590\n",
        "!pip install --pre tensorflow==2.8.0\n",
        "!apt install --allow-change-held-packages libcudnn8=8.1.0.77-1+cuda11.2"
      ]
    },
    {
      "cell_type": "code",
      "execution_count": null,
      "metadata": {
        "id": "4UES9aR1qNbf"
      },
      "outputs": [],
      "source": [
        "import matplotlib\n",
        "import matplotlib.pyplot as plt\n",
        "\n",
        "import os\n",
        "import random\n",
        "import io\n",
        "import imageio\n",
        "import glob\n",
        "import scipy.misc\n",
        "import numpy as np\n",
        "from six import BytesIO\n",
        "from PIL import Image, ImageDraw, ImageFont\n",
        "from IPython.display import display, Javascript\n",
        "from IPython.display import Image as IPyImage\n",
        "\n",
        "import tensorflow as tf\n",
        "\n",
        "from object_detection.utils import label_map_util\n",
        "from object_detection.utils import config_util\n",
        "from object_detection.utils import visualization_utils as viz_utils\n",
        "from object_detection.utils import colab_utils\n",
        "from object_detection.builders import model_builder\n",
        "\n",
        "%matplotlib inline"
      ]
    },
    {
      "cell_type": "code",
      "execution_count": null,
      "metadata": {
        "id": "5cCrYqA0D-Vs"
      },
      "outputs": [],
      "source": [
        "from tqdm import tqdm"
      ]
    },
    {
      "cell_type": "code",
      "execution_count": null,
      "metadata": {
        "id": "RbvyQsyck1V1"
      },
      "outputs": [],
      "source": [
        "def load_image_into_numpy_array(path):\n",
        "  \"\"\"Load an image from file into a numpy array.\n",
        "\n",
        "  Puts image into numpy array to feed into tensorflow graph.\n",
        "  Note that by convention we put it into a numpy array with shape\n",
        "  (height, width, channels), where channels=3 for RGB.\n",
        "\n",
        "  Args:\n",
        "    path: a file path.\n",
        "\n",
        "  Returns:\n",
        "    uint8 numpy array with shape (img_height, img_width, 3)\n",
        "  \"\"\"\n",
        "  img_data = tf.io.gfile.GFile(path, 'rb').read()\n",
        "  image = Image.open(BytesIO(img_data))\n",
        "  (im_width, im_height) = image.size\n",
        "  return np.array(image.getdata()).reshape(\n",
        "      (im_height, im_width, 3)).astype(np.uint8)\n",
        "\n",
        "def plot_detections(image_np,\n",
        "                    boxes,\n",
        "                    classes,\n",
        "                    scores,\n",
        "                    category_index,\n",
        "                    figsize=(12, 16),\n",
        "                    image_name=None):\n",
        "  \"\"\"Wrapper function to visualize detections.\n",
        "\n",
        "  Args:\n",
        "    image_np: uint8 numpy array with shape (img_height, img_width, 3)\n",
        "    boxes: a numpy array of shape [N, 4]\n",
        "    classes: a numpy array of shape [N]. Note that class indices are 1-based,\n",
        "      and match the keys in the label map.\n",
        "    scores: a numpy array of shape [N] or None.  If scores=None, then\n",
        "      this function assumes that the boxes to be plotted are groundtruth\n",
        "      boxes and plot all boxes as black with no classes or scores.\n",
        "    category_index: a dict containing category dictionaries (each holding\n",
        "      category index `id` and category name `name`) keyed by category indices.\n",
        "    figsize: size for the figure.\n",
        "    image_name: a name for the image file.\n",
        "  \"\"\"\n",
        "  image_np_with_annotations = image_np.copy()\n",
        "  viz_utils.visualize_boxes_and_labels_on_image_array(\n",
        "      image_np_with_annotations,\n",
        "      boxes,\n",
        "      classes,\n",
        "      scores,\n",
        "      category_index,\n",
        "      use_normalized_coordinates=True,\n",
        "      min_score_thresh=0.8)\n",
        "  if image_name:\n",
        "    plt.imsave(image_name, image_np_with_annotations)\n",
        "  else:\n",
        "    plt.imshow(image_np_with_annotations)"
      ]
    },
    {
      "cell_type": "code",
      "execution_count": null,
      "metadata": {
        "id": "gobxJ2l4vH8t"
      },
      "outputs": [],
      "source": [
        "def convert_csv_into_numpy_array(csv, im_width, im_height):\n",
        "  # xmin,ymin,xmax,ymax\n",
        "  xmin, ymin, xmax, ymax = list(map(int, csv))\n",
        "  xmin /= im_width\n",
        "  ymin /= im_height\n",
        "  xmax /= im_width\n",
        "  ymax /= im_height\n",
        "  return np.array([[ymin, xmin, ymax, xmax]], dtype=np.float32)"
      ]
    },
    {
      "cell_type": "code",
      "execution_count": null,
      "metadata": {
        "id": "Qyqp8uj2HREt"
      },
      "outputs": [],
      "source": [
        "def convert_csv_into_numpy_array_rects_idxes(csv, im_width, im_height):\n",
        "  # [xmin_0,ymin_0,xmax_0,ymax_0,cls_idx_0,...,xmin_N,ymin_N,xmax_N,ymax_N,cls_idx_N]\n",
        "  elems = list(map(int, csv))\n",
        "  rects, cls_idxes = [], []\n",
        "  for xmin_pos_idx in range(0, len(elems), 5):\n",
        "    xmin, ymin, xmax, ymax, cls_idx = elems[xmin_pos_idx : xmin_pos_idx + 5]\n",
        "    xmin /= im_width\n",
        "    ymin /= im_height\n",
        "    xmax /= im_width\n",
        "    ymax /= im_height\n",
        "    rects.append([ymin, xmin, ymax, xmax])\n",
        "    cls_idxes.append(cls_idx)\n",
        "  return np.array(rects, dtype=np.float32), np.array(cls_idxes, dtype=np.int32)"
      ]
    },
    {
      "cell_type": "code",
      "execution_count": null,
      "metadata": {
        "id": "rD2WC4ovj986"
      },
      "outputs": [],
      "source": [
        "def is_include(csv, target_idxes):\n",
        "  target_idxes = set(target_idxes)\n",
        "  elems = list(map(int, csv))\n",
        "  for xmin_pos_idx in range(0, len(elems), 5):\n",
        "    _, _, _, _, cls_idx = elems[xmin_pos_idx : xmin_pos_idx + 5]\n",
        "    if cls_idx in target_idxes:\n",
        "      return True\n",
        "  return False"
      ]
    },
    {
      "cell_type": "code",
      "execution_count": null,
      "metadata": {
        "id": "7J_NgD-F7m6w"
      },
      "outputs": [],
      "source": [
        "def plot_detections(image_np, boxes, classes, scores, category_index, figsize=(12, 16), image_name=None):\n",
        "  image_np_with_annotations = image_np.copy()\n",
        "  viz_utils.visualize_boxes_and_labels_on_image_array(\n",
        "      image_np_with_annotations,\n",
        "      boxes, classes, scores, category_index,\n",
        "      use_normalized_coordinates=True,\n",
        "      min_score_thresh=0.8\n",
        "  )\n",
        "  if image_name:\n",
        "    plt.imsave(image_name, image_np_with_annotations)\n",
        "  else:\n",
        "    plt.imshow(image_np_with_annotations)"
      ]
    },
    {
      "cell_type": "code",
      "execution_count": null,
      "metadata": {
        "id": "oBvbzfL4qOgj"
      },
      "outputs": [],
      "source": [
        "%%bash\n",
        "wget http://image.ntua.gr/iva/datasets/flickr_logos/flickr_logos_27_dataset.tar.gz\n",
        "#cp /content/drive/MyDrive/DeepLogo2/train_data/flickr_logos_27_dataset.tar.gz .\n",
        "tar zxvf flickr_logos_27_dataset.tar.gz\n",
        "cd flickr_logos_27_dataset\n",
        "tar zxvf flickr_logos_27_dataset_images.tar.gz\n",
        "cd .."
      ]
    },
    {
      "cell_type": "code",
      "execution_count": null,
      "metadata": {
        "id": "KNjaBZKeqkRe"
      },
      "outputs": [],
      "source": [
        "# %%bash\n",
        "# python preproc_annot.py"
      ]
    },
    {
      "cell_type": "markdown",
      "metadata": {
        "id": "indN8AAwEF_z"
      },
      "source": [
        "## Load and visualize train images"
      ]
    },
    {
      "cell_type": "code",
      "execution_count": null,
      "metadata": {
        "id": "GXt5i9MrLbfU"
      },
      "outputs": [],
      "source": [
        "def parse_csvs(annot_csv):\n",
        "  csvs = []\n",
        "  with open(annot_csv, 'r') as f:\n",
        "    for line in f:\n",
        "      line = line.rstrip().split(',')\n",
        "      csvs.append(line)\n",
        "  return csvs"
      ]
    },
    {
      "cell_type": "code",
      "execution_count": null,
      "metadata": {
        "id": "dZeHV2Haq6jN"
      },
      "outputs": [],
      "source": [
        "#train_annot_csv = 'flickr_logos_27_dataset/flickr_logos_27_dataset_training_set_annotation_cropped.txt'\n",
        "train_img_dir = 'flickr_logos_27_dataset/flickr_logos_27_dataset_images'\n",
        "train_annot_csv = '/content/drive/MyDrive/DeepLogo2/data/flickr_logos_27_dataset_training_set_annotation_cropped.txt'\n",
        "train_img_npy = '/content/drive/MyDrive/DeepLogo2/data/train_images_np.npy'\n",
        "gt_boxes_npy = '/content/drive/MyDrive/DeepLogo2/data/gt_boxes.npy'\n",
        "gt_class_ids_npy = '/content/drive/MyDrive/DeepLogo2/data/gt_class_ids.npy'\n",
        "\n",
        "train_images_np = [] if not os.path.exists(train_img_npy) else np.load(train_img_npy, allow_pickle=True)\n",
        "gt_boxes = [] if not os.path.exists(gt_boxes_npy) else np.load(gt_boxes_npy, allow_pickle=True)\n",
        "gt_class_ids = [] if not os.path.exists(gt_class_ids_npy) else np.load(gt_class_ids_npy, allow_pickle=True)\n",
        "train_image_names = []\n",
        "\n",
        "if len(train_images_np) == 0 or len(gt_boxes) == 0 or len(gt_class_ids) == 0:\n",
        "  csvs = parse_csvs(train_annot_csv)\n",
        "  for csv in tqdm(csvs):\n",
        "    # if not is_include(csv[1:], target_idxes=[0]):\n",
        "    #   continue\n",
        "    img_fname = csv[0]\n",
        "    train_image_names.append(img_fname)\n",
        "    with tf.io.gfile.GFile(os.path.join(train_img_dir, img_fname), 'rb') as fid:\n",
        "      encoded_jpg = fid.read()\n",
        "    encoded_jpg_io = io.BytesIO(encoded_jpg)\n",
        "    image = Image.open(encoded_jpg_io)\n",
        "    width, height = image.size\n",
        "\n",
        "    train_images_np.append(load_image_into_numpy_array(os.path.join(train_img_dir, img_fname)))\n",
        "    rects, cls_idxes = convert_csv_into_numpy_array_rects_idxes(csv[1:], width, height)\n",
        "    gt_boxes.append(rects)\n",
        "    gt_class_ids.append(cls_idxes)\n",
        "\n",
        "plt.rcParams['axes.grid'] = False\n",
        "plt.rcParams['figure.figsize'] = [30, 15]\n",
        "\n",
        "for idx, train_image_np in enumerate(train_images_np[:10]):\n",
        "  plt.subplot(2, 5, idx + 1)\n",
        "  plt.imshow(train_image_np)\n",
        "plt.show()"
      ]
    },
    {
      "cell_type": "markdown",
      "metadata": {
        "id": "n3fYN-vyLtaN"
      },
      "source": [
        "### Assign class category index"
      ]
    },
    {
      "cell_type": "code",
      "execution_count": null,
      "metadata": {
        "id": "3zXVDuGJ2_0Y"
      },
      "outputs": [],
      "source": [
        "class_names = [\n",
        "  \"Adidas\", \n",
        "  \"Apple\", \"BMW\", \"Citroen\", \"Cocacola\",\n",
        "  \"DHL\", \"Fedex\", \"Ferrari\", \"Ford\", \"Google\", \n",
        "  \"HP\", \"Heineken\", \"Intel\", \"McDonalds\", \"Mini\", \n",
        "  \"Nbc\", \"Nike\", \"Pepsi\", \"Porsche\", \"Puma\", \n",
        "  \"RedBull\", \"Sprite\", \"Starbucks\", \"Texaco\", \"Unicef\",\n",
        "  \"Vodafone\", \"Yahoo\"\n",
        "]"
      ]
    },
    {
      "cell_type": "code",
      "execution_count": null,
      "metadata": {
        "id": "TH5k1CzWL0aa"
      },
      "outputs": [],
      "source": [
        "# adidas_class_id = 1\n",
        "# apple_class_id = 2\n",
        "\n",
        "# category_index = {\n",
        "#     adidas_class_id : {'id' : adidas_class_id, 'name' : 'adidas'},\n",
        "#     apple_class_id : {'id' : apple_class_id, 'name' : 'apple'},\n",
        "# }\n",
        "\n",
        "category_index = {}\n",
        "for i, class_name in enumerate(class_names):\n",
        "  category_index[i + 1] = {'id' : i + 1, 'name' : class_name}\n",
        "\n",
        "# Specify the number of classes that the model will predict\n",
        "num_classes = len(category_index)"
      ]
    },
    {
      "cell_type": "markdown",
      "metadata": {
        "id": "54ZY3mum65RL"
      },
      "source": [
        "### Data preprocessng for training"
      ]
    },
    {
      "cell_type": "code",
      "execution_count": null,
      "metadata": {
        "id": "dHSh1IxH640B"
      },
      "outputs": [],
      "source": [
        "# Convert class labels to one-hot; convert everything to tensors.\n",
        "# The `label_id_offset` here shifts all classes by a certain number of indices;\n",
        "# we do this here so that the model receives one-hot labels where non-background\n",
        "# classes start counting at the zeroth index.  This is ordinarily just handled\n",
        "# automatically in our training binaries, but we need to reproduce it here.\n",
        "label_id_offset = 1\n",
        "train_image_tensors = []\n",
        "gt_classes_one_hot_tensors = []\n",
        "gt_box_tensors = []\n",
        "\n",
        "#for (train_image_np, gt_box_np) in zip(train_images_np, gt_boxes):\n",
        "for (train_image_np, gt_box_np, gt_class_id_np) in zip(train_images_np, gt_boxes, gt_class_ids):\n",
        "\n",
        "  # convert training image to tensor, add batch dimension, add to list\n",
        "  train_image_tensors.append(tf.expand_dims(tf.convert_to_tensor(\n",
        "      train_image_np, dtype=tf.float32), axis=0))\n",
        "  \n",
        "  # convert numpy array to tensor, add to list\n",
        "  gt_box_tensors.append(tf.convert_to_tensor(gt_box_np, dtype=tf.float32))\n",
        "\n",
        "  # zero indexed ground truth\n",
        "  #zero_indexed_groundtruth_classes = tf.convert_to_tensor(\n",
        "  #    np.ones(shape=[gt_box_np.shape[0]], dtype=np.int32) - label_id_offset)\n",
        "  \n",
        "  # ground truth indexes (multi classes)\n",
        "  # e.g. three logos(class id=[1, 0, 1], num_classes=2) in single image, np.ones=[1, 1, 1] * [1, 0, 1] => [1, 0, 1]\n",
        "  #      then one hot encoding => [[0, 1], [1, 0], [0, 1]]\n",
        "  zero_indexed_groundtruth_classes = tf.convert_to_tensor(\n",
        "      np.ones(shape=[gt_box_np.shape[0]], dtype=np.int32) * gt_class_id_np\n",
        "  )\n",
        "  \n",
        "  # do one hot encoding\n",
        "  gt_classes_one_hot_tensors.append(tf.one_hot(\n",
        "      zero_indexed_groundtruth_classes, num_classes))\n",
        "print('Done prepping data.')"
      ]
    },
    {
      "cell_type": "code",
      "execution_count": null,
      "metadata": {
        "id": "QDTg0DDcirBn"
      },
      "outputs": [],
      "source": [
        "gt_classes_one_hot_tensors[:10]"
      ]
    },
    {
      "cell_type": "markdown",
      "metadata": {
        "id": "-SltYwV0Mn6g"
      },
      "source": [
        "### Visualize ground truth bbox"
      ]
    },
    {
      "cell_type": "code",
      "execution_count": null,
      "metadata": {
        "id": "pfRQDEoVMqf3"
      },
      "outputs": [],
      "source": [
        "# give boxes a score of 100%\n",
        "dummy_scores = [np.array([1.0] * gt_box.shape[0], dtype=np.float32) for gt_box in gt_boxes]\n",
        "\n",
        "# define the figure size\n",
        "plt.figure(figsize=(30, 15))\n",
        "\n",
        "# use the `plot_detections()` utility function to draw the ground truth boxes\n",
        "for idx in range(10):\n",
        "    plt.subplot(2, 5, idx+1)\n",
        "    plot_detections(\n",
        "      train_images_np[idx],\n",
        "      gt_boxes[idx],\n",
        "      np.ones(shape=[gt_boxes[idx].shape[0]], dtype=np.int32) * gt_class_ids[idx] + label_id_offset,\n",
        "      dummy_scores[idx], category_index)\n",
        "\n",
        "plt.show()"
      ]
    },
    {
      "cell_type": "markdown",
      "metadata": {
        "id": "9ArfWNunTgqB"
      },
      "source": [
        "### Download checkpoints"
      ]
    },
    {
      "cell_type": "code",
      "execution_count": null,
      "metadata": {
        "id": "3wNwz_BdTgQY"
      },
      "outputs": [],
      "source": [
        "# Download the SSD Resnet 50 version 1, 640x640 checkpoint\n",
        "!wget http://download.tensorflow.org/models/object_detection/tf2/20200711/ssd_resnet152_v1_fpn_640x640_coco17_tpu-8.tar.gz\n",
        "!tar -xf ssd_resnet152_v1_fpn_640x640_coco17_tpu-8.tar.gz\n",
        "!mv ssd_resnet152_v1_fpn_640x640_coco17_tpu-8/checkpoint models/research/object_detection/test_data/\n",
        "model_name = 'ssd_resnet152_v1_fpn_640x640_coco17_tpu-8'"
      ]
    },
    {
      "cell_type": "markdown",
      "metadata": {
        "id": "0AAtfgU0U8mc"
      },
      "source": [
        "### Configure and build the model"
      ]
    },
    {
      "cell_type": "code",
      "execution_count": null,
      "metadata": {
        "id": "D0putLjUU7-I"
      },
      "outputs": [],
      "source": [
        "tf.keras.backend.clear_session()\n",
        "\n",
        "print('Building {} and restoring weights for fine-tuning...'.format(model_name), flush=True)\n",
        "pipeline_config = 'models/research/object_detection/configs/tf2/' + model_name + '.config'\n",
        "checkpoint_path = 'models/research/object_detection/test_data/checkpoint/ckpt-0'\n",
        "\n",
        "# Load pipeline config and build a detection model.\n",
        "#\n",
        "# Since we are working off of a COCO architecture which predicts 90\n",
        "# class slots by default, we override the `num_classes` field here to be just\n",
        "# one (for our new rubber ducky class).\n",
        "configs = config_util.get_configs_from_pipeline_file(pipeline_config)\n",
        "model_config = configs['model']\n",
        "model_config.ssd.num_classes = num_classes\n",
        "model_config.ssd.freeze_batchnorm = True\n",
        "detection_model = model_builder.build(\n",
        "      model_config=model_config, is_training=True)"
      ]
    },
    {
      "cell_type": "code",
      "execution_count": null,
      "metadata": {
        "id": "YsvkpEjHVv4p"
      },
      "outputs": [],
      "source": [
        "print(type(detection_model))"
      ]
    },
    {
      "cell_type": "markdown",
      "metadata": {
        "id": "NsZNqWe6KhYA"
      },
      "source": [
        "### Append data augmentation"
      ]
    },
    {
      "cell_type": "code",
      "execution_count": null,
      "metadata": {
        "id": "rcDTVM5eEWgq"
      },
      "outputs": [],
      "source": [
        "train_config = configs['train_config']"
      ]
    },
    {
      "cell_type": "code",
      "execution_count": null,
      "metadata": {
        "id": "Ywv3AQlwEa7l"
      },
      "outputs": [],
      "source": [
        "train_config.data_augmentation_options"
      ]
    },
    {
      "cell_type": "code",
      "execution_count": null,
      "metadata": {
        "id": "73EVf0wUGkWh"
      },
      "outputs": [],
      "source": [
        "from google.protobuf import text_format\n",
        "\n",
        "from object_detection.builders import preprocessor_builder\n",
        "from object_detection.core import preprocessor\n",
        "from object_detection.protos import preprocessor_pb2\n"
      ]
    },
    {
      "cell_type": "code",
      "execution_count": null,
      "metadata": {
        "id": "pe4UEc4cGlem"
      },
      "outputs": [],
      "source": [
        "# Random image scale\n",
        "preprocessor_text_proto = \"\"\"\n",
        "random_image_scale {\n",
        "  min_scale_ratio: 0.5\n",
        "  max_scale_ratio: 2.2\n",
        "}\n",
        "\"\"\"\n",
        "preprocessor_proto = preprocessor_pb2.PreprocessingStep()\n",
        "text_format.Merge(preprocessor_text_proto, preprocessor_proto)"
      ]
    },
    {
      "cell_type": "code",
      "execution_count": null,
      "metadata": {
        "id": "VJU4qZAMG127"
      },
      "outputs": [],
      "source": [
        "train_config.data_augmentation_options.append(preprocessor_proto)"
      ]
    },
    {
      "cell_type": "code",
      "execution_count": null,
      "metadata": {
        "id": "EV9Pt6M904vc"
      },
      "outputs": [],
      "source": [
        "# Random adjust brithtness\n",
        "preprocessor_text_proto = \"\"\"\n",
        "random_adjust_brightness {\n",
        "}\n",
        "\"\"\"\n",
        "preprocessor_proto = preprocessor_pb2.PreprocessingStep()\n",
        "text_format.Merge(preprocessor_text_proto, preprocessor_proto)"
      ]
    },
    {
      "cell_type": "code",
      "execution_count": null,
      "metadata": {
        "id": "tgVSkk2U51Tq"
      },
      "outputs": [],
      "source": [
        "train_config.data_augmentation_options.append(preprocessor_proto)"
      ]
    },
    {
      "cell_type": "code",
      "execution_count": null,
      "metadata": {
        "id": "E6d6gQpE1p54"
      },
      "outputs": [],
      "source": [
        "# Random adjust saturation\n",
        "preprocessor_text_proto = \"\"\"\n",
        "random_adjust_saturation {\n",
        "}\n",
        "\"\"\"\n",
        "preprocessor_proto = preprocessor_pb2.PreprocessingStep()\n",
        "text_format.Merge(preprocessor_text_proto, preprocessor_proto)"
      ]
    },
    {
      "cell_type": "code",
      "execution_count": null,
      "metadata": {
        "id": "2wVwbusf53me"
      },
      "outputs": [],
      "source": [
        "train_config.data_augmentation_options.append(preprocessor_proto)"
      ]
    },
    {
      "cell_type": "code",
      "execution_count": null,
      "metadata": {
        "id": "NMhQxMuq4P1P"
      },
      "outputs": [],
      "source": [
        "# Random adjust hue\n",
        "preprocessor_text_proto = \"\"\"\n",
        "random_adjust_hue {\n",
        "}\n",
        "\"\"\"\n",
        "preprocessor_proto = preprocessor_pb2.PreprocessingStep()\n",
        "text_format.Merge(preprocessor_text_proto, preprocessor_proto)"
      ]
    },
    {
      "cell_type": "code",
      "execution_count": null,
      "metadata": {
        "id": "iLT3iGP-55MF"
      },
      "outputs": [],
      "source": [
        "train_config.data_augmentation_options.append(preprocessor_proto)"
      ]
    },
    {
      "cell_type": "code",
      "execution_count": null,
      "metadata": {
        "id": "S7mFETNF7IhJ"
      },
      "outputs": [],
      "source": [
        "# Random rgb to gray\n",
        "preprocessor_text_proto = \"\"\"\n",
        "random_rgb_to_gray {\n",
        "  probability: 0.3\n",
        "}\n",
        "\"\"\"\n",
        "preprocessor_proto = preprocessor_pb2.PreprocessingStep()\n",
        "text_format.Merge(preprocessor_text_proto, preprocessor_proto)"
      ]
    },
    {
      "cell_type": "code",
      "execution_count": null,
      "metadata": {
        "id": "aPuaPjui7ZiV"
      },
      "outputs": [],
      "source": [
        "train_config.data_augmentation_options.append(preprocessor_proto)"
      ]
    },
    {
      "cell_type": "code",
      "execution_count": null,
      "metadata": {
        "id": "oUwWO2vH158D"
      },
      "outputs": [],
      "source": [
        "print(train_config.data_augmentation_options)"
      ]
    },
    {
      "cell_type": "code",
      "execution_count": null,
      "metadata": {
        "id": "KjWoDcnTLM5H"
      },
      "outputs": [],
      "source": [
        "# Random rotation90\n",
        "preprocessor_text_proto = \"\"\"\n",
        "random_rotation90 {\n",
        "  keypoint_rot_permutation: 3\n",
        "  keypoint_rot_permutation: 0\n",
        "  keypoint_rot_permutation: 1\n",
        "  keypoint_rot_permutation: 2\n",
        "  probability: 0.5\n",
        "}\n",
        "\"\"\"\n",
        "preprocessor_proto = preprocessor_pb2.PreprocessingStep()\n",
        "text_format.Merge(preprocessor_text_proto, preprocessor_proto)"
      ]
    },
    {
      "cell_type": "code",
      "execution_count": null,
      "metadata": {
        "id": "p_Av5anVLsjR"
      },
      "outputs": [],
      "source": [
        "train_config.data_augmentation_options.append(preprocessor_proto)"
      ]
    },
    {
      "cell_type": "code",
      "execution_count": null,
      "metadata": {
        "id": "_DoCu_O2J9iQ"
      },
      "outputs": [],
      "source": [
        "train_config.data_augmentation_options"
      ]
    },
    {
      "cell_type": "markdown",
      "metadata": {
        "id": "_oeqe1wceFEU"
      },
      "source": [
        "### Restore checkpoint"
      ]
    },
    {
      "cell_type": "code",
      "execution_count": null,
      "metadata": {
        "id": "KP6WdtVNeK_w"
      },
      "outputs": [],
      "source": [
        "# Set up object-based checkpoint restore --- RetinaNet has two predictioΩn\n",
        "# `heads` --- one for classification, the other for box regression.  We will\n",
        "# restore the box regression head but initialize the classification head\n",
        "# from scratch (we show the omission below by commenting out the line that\n",
        "# we would add if we wanted to restore both heads)\n",
        "fake_box_predictor = tf.compat.v2.train.Checkpoint(\n",
        "    _base_tower_layers_for_heads=detection_model._box_predictor._base_tower_layers_for_heads,\n",
        "    # _prediction_heads=detection_model._box_predictor._prediction_heads,\n",
        "    #    (i.e., the classification head that we *will not* restore)\n",
        "    _box_prediction_head=detection_model._box_predictor._box_prediction_head,\n",
        "    )\n",
        "fake_model = tf.compat.v2.train.Checkpoint(\n",
        "          _feature_extractor=detection_model._feature_extractor,\n",
        "          _box_predictor=fake_box_predictor)\n",
        "ckpt = tf.compat.v2.train.Checkpoint(model=fake_model)\n",
        "ckpt.restore(checkpoint_path).expect_partial()"
      ]
    },
    {
      "cell_type": "code",
      "execution_count": null,
      "metadata": {
        "id": "Rabk9f0LlENY"
      },
      "outputs": [],
      "source": [
        "# Run model through a dummy image so that variables are created\n",
        "image, shapes = detection_model.preprocess(tf.zeros([1, 1024, 1024, 3]))\n",
        "prediction_dict = detection_model.predict(image, shapes)\n",
        "_ = detection_model.postprocess(prediction_dict, shapes)\n",
        "print('Weights restored!')"
      ]
    },
    {
      "cell_type": "code",
      "execution_count": null,
      "metadata": {
        "id": "m3q1jAwGdiFb"
      },
      "outputs": [],
      "source": [
        "shapes"
      ]
    },
    {
      "cell_type": "markdown",
      "metadata": {
        "id": "B-8q0bWxdMJm"
      },
      "source": [
        "### Choose the layers to fine-tune"
      ]
    },
    {
      "cell_type": "code",
      "execution_count": null,
      "metadata": {
        "id": "Zwr-b_cWdJtY"
      },
      "outputs": [],
      "source": [
        "# Select variables in top layers to fine-tune.\n",
        "trainable_variables = detection_model.trainable_variables\n",
        "to_fine_tune = []\n",
        "prefixes_to_train = [\n",
        "  'WeightSharedConvolutionalBoxPredictor/WeightSharedConvolutionalBoxHead',\n",
        "  'WeightSharedConvolutionalBoxPredictor/WeightSharedConvolutionalClassHead']\n",
        "for var in trainable_variables:\n",
        "  if any([var.name.startswith(prefix) for prefix in prefixes_to_train]):\n",
        "    to_fine_tune.append(var)"
      ]
    },
    {
      "cell_type": "code",
      "execution_count": null,
      "metadata": {
        "id": "SKtxpPRsdsUt"
      },
      "outputs": [],
      "source": [
        "[ft.name for ft in to_fine_tune]"
      ]
    },
    {
      "cell_type": "markdown",
      "metadata": {
        "id": "REDqMI1sqidq"
      },
      "source": [
        "### Training"
      ]
    },
    {
      "cell_type": "code",
      "execution_count": null,
      "metadata": {
        "id": "lzYnBSQGJ3ls"
      },
      "outputs": [],
      "source": [
        "from object_detection.builders import optimizer_builder"
      ]
    },
    {
      "cell_type": "code",
      "execution_count": null,
      "metadata": {
        "id": "m6HSAMwNs1V8"
      },
      "outputs": [],
      "source": [
        "tf.keras.backend.set_learning_phase(True)\n",
        "\n",
        "# set the batch_size\n",
        "batch_size = train_config.batch_size // 2\n",
        "\n",
        "# set the number of batches\n",
        "epochs = 100\n",
        "print(f'batch_size: {batch_size}')\n",
        "print(f'num_train_samples: {len(train_images_np)}')\n",
        "\n",
        "# Set the learning rate\n",
        "# learning_rate = 0.01\n",
        "\n",
        "# set the optimizer and pass in the learning_rate\n",
        "# optimizer = tf.keras.optimizers.SGD(\n",
        "#     learning_rate=learning_rate, momentum=0.9)\n",
        "\n",
        "optimizer, (learning_rate,) = optimizer_builder.build(train_config.optimizer)"
      ]
    },
    {
      "cell_type": "code",
      "execution_count": null,
      "metadata": {
        "id": "DYhOj5tOqh1N"
      },
      "outputs": [],
      "source": [
        "# decorate with @tf.function for faster training (remember, graph mode!)\n",
        "@tf.function\n",
        "def train_step_fn(image_list,\n",
        "                groundtruth_boxes_list,\n",
        "                groundtruth_classes_list,\n",
        "                model,\n",
        "                optimizer,\n",
        "                vars_to_fine_tune):\n",
        "    \"\"\"A single training iteration.\n",
        "\n",
        "    Args:\n",
        "      image_list: A list of [1, height, width, 3] Tensor of type tf.float32.\n",
        "        Note that the height and width can vary across images, as they are\n",
        "        reshaped within this function to be 640x640.\n",
        "      groundtruth_boxes_list: A list of Tensors of shape [N_i, 4] with type\n",
        "        tf.float32 representing groundtruth boxes for each image in the batch.\n",
        "      groundtruth_classes_list: A list of Tensors of shape [N_i, num_classes]\n",
        "        with type tf.float32 representing groundtruth boxes for each image in\n",
        "        the batch.\n",
        "\n",
        "    Returns:\n",
        "      A scalar tensor representing the total loss for the input batch.\n",
        "    \"\"\"\n",
        "\n",
        "    with tf.GradientTape() as tape:\n",
        "        # Preprocess the images\n",
        "        preprocessed_image_list=[]\n",
        "        true_shape_list=[]\n",
        "        model.provide_groundtruth(\n",
        "        groundtruth_boxes_list=groundtruth_boxes_list,\n",
        "        groundtruth_classes_list=groundtruth_classes_list)\n",
        "\n",
        "        for img in image_list:\n",
        "          processed_img, true_shape = model.preprocess(img)\n",
        "          preprocessed_image_list.append(processed_img)\n",
        "          true_shape_list.append(true_shape)\n",
        "\n",
        "        preprocessed_image_tensor = tf.concat(preprocessed_image_list, axis=0)\n",
        "        true_shape_tensor = tf.concat(true_shape_list, axis=0) \n",
        "\n",
        "        # Make a prediction\n",
        "        prediction_dict = model.predict(preprocessed_image_tensor, true_shape_tensor)\n",
        "\n",
        "        # Calculate the total loss (sum of both losses)\n",
        "        losses_dict = model.loss(prediction_dict, true_shape_tensor)\n",
        "        total_loss=losses_dict['Loss/localization_loss']+losses_dict['Loss/classification_loss']\n",
        "        # Calculate the gradients\n",
        "        gradients = tape.gradient(total_loss,vars_to_fine_tune)\n",
        "        optimizer.apply_gradients(zip(gradients, vars_to_fine_tune))\n",
        "        # Optimize the model's selected variables\n",
        "\n",
        "    return total_loss"
      ]
    },
    {
      "cell_type": "code",
      "execution_count": null,
      "metadata": {
        "id": "YALcAH19sHrF"
      },
      "outputs": [],
      "source": [
        "print('Start fine-tuning!', flush=True)\n",
        "\n",
        "for epoch in range(epochs):\n",
        "  for idx in range(len(train_image_tensors) // batch_size):\n",
        "      # Get the ground truth\n",
        "      gt_boxes_list = gt_box_tensors[idx * batch_size : min(len(gt_box_tensors), (idx + 1) * batch_size)]\n",
        "      gt_classes_list = gt_classes_one_hot_tensors[idx * batch_size : min(len(gt_classes_one_hot_tensors), (idx + 1) * batch_size)]\n",
        "      \n",
        "      # get the images\n",
        "      image_tensors = train_image_tensors[idx * batch_size : min(len(train_image_tensors), (idx + 1) * batch_size)]\n",
        "\n",
        "      # Training step (forward pass + backwards pass)\n",
        "      total_loss = train_step_fn(image_tensors, \n",
        "                                gt_boxes_list, \n",
        "                                gt_classes_list,\n",
        "                                detection_model,\n",
        "                                optimizer,\n",
        "                                to_fine_tune\n",
        "                                )\n",
        "\n",
        "      if idx % 2 == 0:\n",
        "          print('epoch ' + str(epoch) +  ', batch ' + str(idx) + ' of ' + str(len(train_image_tensors) // batch_size)\n",
        "          + ', loss=' +  str(total_loss.numpy()), flush=True)\n",
        "\n",
        "print('Done fine-tuning!')"
      ]
    },
    {
      "cell_type": "markdown",
      "metadata": {
        "id": "fIJbhqgJHG9Z"
      },
      "source": [
        "## Run Test"
      ]
    },
    {
      "cell_type": "code",
      "execution_count": null,
      "metadata": {
        "id": "DKEeMF9v1bcy"
      },
      "outputs": [],
      "source": [
        "test_annot_csv = '/content/drive/MyDrive/DeepLogo2/data/flickr_logos_27_dataset_test_set_annotation_cropped.txt'\n",
        "test_img_dir = 'flickr_logos_27_dataset/flickr_logos_27_dataset_images'\n",
        "test_images_np = []\n",
        "csvs = parse_csvs(test_annot_csv)\n",
        "for csv in tqdm(csvs):\n",
        "  img_fname = csv[0]\n",
        "  image_path = os.path.join(test_img_dir, img_fname)\n",
        "  test_images_np.append(np.expand_dims(\n",
        "      load_image_into_numpy_array(image_path), axis=0)\n",
        "  )"
      ]
    },
    {
      "cell_type": "code",
      "execution_count": null,
      "metadata": {
        "id": "u-x93Jzdnw9n"
      },
      "outputs": [],
      "source": [
        "plt.figure(figsize=(30, 15))\n",
        "for idx, test_image_np in enumerate(test_images_np[:5]):\n",
        "  plt.subplot(2, 3, idx + 1)\n",
        "  plt.imshow(test_image_np[0])\n",
        "plt.show()"
      ]
    },
    {
      "cell_type": "code",
      "execution_count": null,
      "metadata": {
        "id": "nKhWJhAm1eJt"
      },
      "outputs": [],
      "source": [
        "@tf.function\n",
        "def detect(input_tensor):\n",
        "    \"\"\"Run detection on an input image.\n",
        "\n",
        "    Args:\n",
        "    input_tensor: A [1, height, width, 3] Tensor of type tf.float32.\n",
        "      Note that height and width can be anything since the image will be\n",
        "      immediately resized according to the needs of the model within this\n",
        "      function.\n",
        "\n",
        "    Returns:\n",
        "    A dict containing 3 Tensors (`detection_boxes`, `detection_classes`,\n",
        "      and `detection_scores`).\n",
        "    \"\"\"\n",
        "    preprocessed_image, shapes = detection_model.preprocess(input_tensor)\n",
        "    prediction_dict = detection_model.predict(preprocessed_image, shapes)\n",
        "    \n",
        "    # use the detection model's postprocess() method to get the the final detections\n",
        "    detections = detection_model.postprocess(prediction_dict, shapes)\n",
        "    \n",
        "    return detections"
      ]
    },
    {
      "cell_type": "code",
      "execution_count": null,
      "metadata": {
        "id": "zse__Dsr43nT"
      },
      "outputs": [],
      "source": [
        "label_id_offset = 1\n",
        "image_np_with_annotations = []\n",
        "\n",
        "for test_idx in range(len(test_images_np)):\n",
        "  input_tensor = tf.convert_to_tensor(test_images_np[test_idx], dtype=np.float32)\n",
        "  detections = detect(input_tensor)\n",
        "  image_np_with_annotation = viz_utils.visualize_boxes_and_labels_on_image_array(\n",
        "    test_images_np[test_idx][0], # [b, h, w, c]\n",
        "    detections['detection_boxes'][0].numpy(), \n",
        "    detections['detection_classes'][0].numpy().astype(np.uint32) + label_id_offset, \n",
        "    detections['detection_scores'][0].numpy(), category_index,\n",
        "    use_normalized_coordinates=True,\n",
        "    min_score_thresh=0.6\n",
        "  )\n",
        "  image_np_with_annotations.append(image_np_with_annotation)"
      ]
    },
    {
      "cell_type": "code",
      "execution_count": null,
      "metadata": {
        "id": "ebJIq_vBC8Ol"
      },
      "outputs": [],
      "source": [
        "num_view_images = 5 if len(image_np_with_annotations) > 5 else len(image_np_with_annotations)\n",
        "plt.figure(figsize=(30, 15))\n",
        "for idx, image_np_with_annotation in enumerate(np.random.choice(image_np_with_annotations, num_view_images, replace=False)):\n",
        "  plt.subplot(1, 5, idx + 1)\n",
        "  plt.imshow(image_np_with_annotation)\n",
        "plt.show()"
      ]
    },
    {
      "cell_type": "markdown",
      "metadata": {
        "id": "eTTvRlk9rdyY"
      },
      "source": [
        "### Save the model"
      ]
    },
    {
      "cell_type": "code",
      "execution_count": null,
      "metadata": {
        "id": "rzlVgSjq0pOg"
      },
      "outputs": [],
      "source": [
        "checkpoint = tf.train.Checkpoint(detection_model)\n",
        "checkpoint.save('/content/drive/MyDrive/DeepLogo2/model/DeepLogo2' + \\\n",
        "                '-' + model_name + '-epoch' + str(epochs) + '-batch' + str(batch_size))"
      ]
    },
    {
      "cell_type": "code",
      "execution_count": null,
      "metadata": {
        "id": "cyF_iimA6D12"
      },
      "outputs": [],
      "source": []
    }
  ],
  "metadata": {
    "accelerator": "GPU",
    "colab": {
      "collapsed_sections": [],
      "machine_shape": "hm",
      "name": "training_od_colab",
      "private_outputs": true,
      "provenance": []
    },
    "kernelspec": {
      "display_name": "Python 3",
      "language": "python",
      "name": "python3"
    },
    "language_info": {
      "name": "python",
      "version": "3.10.7 (tags/v3.10.7:6cc6b13, Sep  5 2022, 14:08:36) [MSC v.1933 64 bit (AMD64)]"
    },
    "vscode": {
      "interpreter": {
        "hash": "369f2c481f4da34e4445cda3fffd2e751bd1c4d706f27375911949ba6bb62e1c"
      }
    }
  },
  "nbformat": 4,
  "nbformat_minor": 0
}
