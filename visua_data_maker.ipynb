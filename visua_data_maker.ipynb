{
 "cells": [
  {
   "cell_type": "code",
   "execution_count": 11,
   "metadata": {},
   "outputs": [],
   "source": [
    "import os\n",
    "import psycopg2\n",
    "from dotenv import load_dotenv\n",
    "import mysql.connector\n",
    "import boto3"
   ]
  },
  {
   "cell_type": "code",
   "execution_count": 12,
   "metadata": {},
   "outputs": [],
   "source": [
    "\n",
    "def import_from_S3(S3directory, filename, outputDirectory):\n",
    "\n",
    "    # load environment variables from .env file\n",
    "    load_dotenv()\n",
    "\n",
    "    # access specific s3 bucket\n",
    "    bucket_name = os.getenv('AWS_BUCKET')\n",
    "\n",
    "    # create an S3 client\n",
    "    s3 = boto3.client('s3')\n",
    "\n",
    "    # list all of the buckets in your account\n",
    "    response = s3.list_buckets()\n",
    "    #print(response)\n",
    "\n",
    "\n",
    "    print(S3directory + filename)\n",
    "\n",
    "    s3.download_file(bucket_name, S3directory + filename, outputDirectory + filename)\n"
   ]
  },
  {
   "cell_type": "code",
   "execution_count": 13,
   "metadata": {},
   "outputs": [
    {
     "name": "stdout",
     "output_type": "stream",
     "text": [
      "7801176_2021_05_09_VIF_RBK_1st_Half_3cdbc3.mp4\n"
     ]
    }
   ],
   "source": [
    "\n",
    "load_dotenv()\n",
    "host=os.getenv('DB_HOST')\n",
    "\n",
    "conn = mysql.connector.connect(\n",
    "    host=os.getenv('DB_HOST'),\n",
    "    user=os.getenv('DB_USERNAME'),\n",
    "    password= os.getenv('DB_PASSWORD'),\n",
    "    database=os.getenv('DB_DATABASE'),\n",
    "    port=os.getenv('DB_PORT')\n",
    ")\n",
    "\n",
    "cursor = conn.cursor()\n",
    "\n",
    "query = \"select url from logograb_videos where id = 1\"\n",
    "\n",
    "cursor.execute(query)\n",
    "\n",
    "result = cursor.fetchall()\n",
    "video_url = result[0][0]\n",
    "filename = video_url.replace('http://spect8-static.s3.amazonaws.com/', '')\n",
    "print(filename)\n",
    "\n",
    "#import_from_S3('', filename, '.\\\\visua\\\\videos\\\\')\n",
    "\n"
   ]
  },
  {
   "cell_type": "code",
   "execution_count": 16,
   "metadata": {},
   "outputs": [
    {
     "name": "stdout",
     "output_type": "stream",
     "text": [
      "video-analysis/1.json\n"
     ]
    }
   ],
   "source": [
    "import_from_S3('video-analysis/', '1.json', '.\\\\visua\\\\analyses\\\\')\n",
    "\n",
    "\n",
    "conn.close()"
   ]
  },
  {
   "cell_type": "code",
   "execution_count": null,
   "metadata": {},
   "outputs": [],
   "source": [
    "# load environment variables from .env file\n",
    "load_dotenv()\n",
    "\n",
    "# access specific s3 bucket\n",
    "bucket_name = os.getenv('AWS_BUCKET')\n",
    "\n",
    "# create an S3 client\n",
    "s3 = boto3.client('s3')\n",
    "\n",
    "# list all of the buckets in your account\n",
    "response = s3.list_buckets()\n",
    "#print(response)\n",
    "\n",
    "file_name = '/visua/20210927_TV2_Sportsnyhetene_2125.mp4'\n",
    "local_file_path = '/home/ubuntu/.hkt/logodetect/data/videos/'\n",
    "\n",
    "#response = s3.get_object(Bucket=bucket_name, Key='7801207_2021_05_27_VIK_MIF_2nd_Half_416444.mp4')\n",
    "\n",
    "#os.makedirs(os.path.dirname(local_file_path))\n",
    "\n",
    "s3.download_file(bucket_name, 'video-analysis/1.json', '.\\\\visua\\\\analyses\\\\1.json')\n",
    "\n"
   ]
  }
 ],
 "metadata": {
  "kernelspec": {
   "display_name": "Python 3",
   "language": "python",
   "name": "python3"
  },
  "language_info": {
   "codemirror_mode": {
    "name": "ipython",
    "version": 3
   },
   "file_extension": ".py",
   "mimetype": "text/x-python",
   "name": "python",
   "nbconvert_exporter": "python",
   "pygments_lexer": "ipython3",
   "version": "3.10.7"
  },
  "orig_nbformat": 4,
  "vscode": {
   "interpreter": {
    "hash": "369f2c481f4da34e4445cda3fffd2e751bd1c4d706f27375911949ba6bb62e1c"
   }
  }
 },
 "nbformat": 4,
 "nbformat_minor": 2
}
