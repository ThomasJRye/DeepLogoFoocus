{
 "cells": [
  {
   "cell_type": "code",
   "execution_count": 27,
   "metadata": {},
   "outputs": [],
   "source": [
    "# this file is used to convert the csv file from makesense.ai to a format suitable to \n",
    "# the rest of the program\n",
    "\n",
    "import pandas as pd\n",
    "import numpy as np\n",
    "import csv\n",
    "\n"
   ]
  },
  {
   "cell_type": "code",
   "execution_count": 28,
   "metadata": {},
   "outputs": [],
   "source": [
    "def get_make_sense_csv_file(csv_input_filepath, txt_output_filepath):\n",
    "\n",
    "    with open(csv_input_filepath, 'r') as csv_file:\n",
    "        reader = csv.reader(csv_file)\n",
    "        #format of csv file is label_name\tbbox_x\tbbox_y\tbbox_width\tbbox_height\timage_name\timage_width\timage_height\n",
    "        # convert to variables\n",
    "        for row in reader:\n",
    "            label_name = row[0]\n",
    "\n",
    "            #skip first row as this is the header and doesn't have values\n",
    "            if label_name != 'label_name':\n",
    "                x = int(row[1])\n",
    "                y = int(row[2])\n",
    "                width = int(row[3])\n",
    "                height = int(row[4])\n",
    "                image_name = row[5]\n",
    "\n",
    "                #insert into txt file in format image_name logo x1 y1 x2 y2\n",
    "                with open(txt_output_filepath, 'a') as txt_file:\n",
    "                    \n",
    "                    #new line in txt file\n",
    "                    txt_file.write('\\n')\n",
    "                    txt_file.write(image_name + ' ' + label_name + ' ' + str(x) + ' ' + str(y) + ' ' + str(x + width) + ' ' + str(y + height))"
   ]
  },
  {
   "cell_type": "code",
   "execution_count": 29,
   "metadata": {},
   "outputs": [],
   "source": [
    "get_make_sense_csv_file('labels_foocus-test_2023-02-10-12-16-05.csv', 'foocus_dataset_training_set_annotation.txt')"
   ]
  }
 ],
 "metadata": {
  "kernelspec": {
   "display_name": "Python 3",
   "language": "python",
   "name": "python3"
  },
  "language_info": {
   "codemirror_mode": {
    "name": "ipython",
    "version": 3
   },
   "file_extension": ".py",
   "mimetype": "text/x-python",
   "name": "python",
   "nbconvert_exporter": "python",
   "pygments_lexer": "ipython3",
   "version": "3.10.7"
  },
  "orig_nbformat": 4,
  "vscode": {
   "interpreter": {
    "hash": "369f2c481f4da34e4445cda3fffd2e751bd1c4d706f27375911949ba6bb62e1c"
   }
  }
 },
 "nbformat": 4,
 "nbformat_minor": 2
}
